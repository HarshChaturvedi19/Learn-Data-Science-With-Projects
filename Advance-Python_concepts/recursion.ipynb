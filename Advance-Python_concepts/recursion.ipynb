{
 "cells": [
  {
   "cell_type": "markdown",
   "metadata": {},
   "source": [
    "### Recursion"
   ]
  },
  {
   "cell_type": "code",
   "execution_count": 1,
   "metadata": {},
   "outputs": [],
   "source": [
    "## -> Recursion is a technique where a function call itself to solve a problem .\n"
   ]
  },
  {
   "cell_type": "code",
   "execution_count": 6,
   "metadata": {},
   "outputs": [
    {
     "name": "stdout",
     "output_type": "stream",
     "text": [
      "It is a palindrome\n"
     ]
    }
   ],
   "source": [
    "## Palindrom problem using recursion \n",
    "def plain(text):\n",
    "    if len(text) <=1:\n",
    "        print('It is a palindrome')\n",
    "    else:\n",
    "        if text[0] == text[-1]:\n",
    "            plain(text[1:-1])\n",
    "        else:\n",
    "            print('Not a palindrome')\n",
    "\n",
    "plain('malayalam')"
   ]
  },
  {
   "cell_type": "code",
   "execution_count": null,
   "metadata": {},
   "outputs": [],
   "source": [
    " ## Q2) ->  Rabbit Problem -> if 2 newborn rabbit s are put in a pen, how many rabbits will be in the pen after 1 year\n",
    "#assume that the rabbit always produce one male and one female offspring\n",
    "# can reproduce once every month\n",
    "# can reproduce once they are one month old\n",
    "# never die\n",
    " "
   ]
  },
  {
   "cell_type": "code",
   "execution_count": 16,
   "metadata": {},
   "outputs": [
    {
     "name": "stdout",
     "output_type": "stream",
     "text": [
      "Total number of rabbits after a year 233\n"
     ]
    }
   ],
   "source": [
    "# answer -2 => \n",
    "def fib(m):\n",
    "    if m==0 or m==1:\n",
    "        return 1\n",
    "    else:\n",
    "        return fib(m-1) + fib(m-2)\n",
    "    \n",
    "print('Total number of rabbits after a year',fib(12))\n",
    "# time coplexity of this code is 2^n\n"
   ]
  },
  {
   "cell_type": "code",
   "execution_count": null,
   "metadata": {},
   "outputs": [
    {
     "name": "stdout",
     "output_type": "stream",
     "text": [
      "10946\n",
      "Time taken for the execution is :-> 0.0010099411010742188\n"
     ]
    }
   ],
   "source": [
    "## to reduce the time complexity use use dynamic programming -> Memorization\n",
    "# we store the value of each fibb , series in a dictonary \n",
    "import time\n",
    "def memo(m,d):\n",
    "\n",
    "    if m in d:\n",
    "        return d[m]\n",
    "    \n",
    "    else:\n",
    "        d[m] = memo(m-1,d) + memo(m-2,d)\n",
    "        return d[m]\n",
    "start = time.time()\n",
    "d = {0:1,1:1}\n",
    "print(memo(20,d))\n",
    "print('Time taken for the execution is :->',time.time()-start)\n",
    "# but the memory optimizaton is less .\n"
   ]
  },
  {
   "cell_type": "code",
   "execution_count": null,
   "metadata": {},
   "outputs": [],
   "source": []
  }
 ],
 "metadata": {
  "kernelspec": {
   "display_name": "Python 3",
   "language": "python",
   "name": "python3"
  },
  "language_info": {
   "codemirror_mode": {
    "name": "ipython",
    "version": 3
   },
   "file_extension": ".py",
   "mimetype": "text/x-python",
   "name": "python",
   "nbconvert_exporter": "python",
   "pygments_lexer": "ipython3",
   "version": "3.12.0"
  }
 },
 "nbformat": 4,
 "nbformat_minor": 2
}
