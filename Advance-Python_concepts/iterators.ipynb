{
 "cells": [
  {
   "cell_type": "markdown",
   "metadata": {},
   "source": [
    "### What is an iteration\n",
    "\n",
    "- ietration is a gerneral term for taking each item of something, one after another.\n",
    "- Any time you see a loop , explicit or implicit, to go over a group of items, that is iteration."
   ]
  },
  {
   "cell_type": "code",
   "execution_count": 1,
   "metadata": {},
   "outputs": [
    {
     "name": "stdout",
     "output_type": "stream",
     "text": [
      "1\n",
      "2\n",
      "3\n"
     ]
    }
   ],
   "source": [
    "# example\n",
    "num = [1,2,3]\n",
    "for i in num:\n",
    "    print(i)"
   ]
  },
  {
   "cell_type": "markdown",
   "metadata": {},
   "source": [
    "### What is Iteratir?\n",
    "- An iterator is an object that allow the programmer to traverse a sequence of data without having to store the entire data in the memory | "
   ]
  },
  {
   "cell_type": "code",
   "execution_count": 7,
   "metadata": {},
   "outputs": [
    {
     "name": "stdout",
     "output_type": "stream",
     "text": [
      "8.6484375\n",
      "0.046875\n"
     ]
    }
   ],
   "source": [
    "# Example\n",
    "L = [x for x in range(1,1000)]\n",
    "#for i in L:\n",
    " #   print(i*2)\\\n",
    "    \n",
    "# size of this list in bytes\n",
    "import sys \n",
    "print(sys.getsizeof(L)/1024)\n",
    "\n",
    "\n",
    " # to get the the more small , we use range funct\n",
    "\n",
    "x = range(1,10000)\n",
    "\n",
    "#for i in x:\n",
    " #   print(i*2) \n",
    "\n",
    "# get the memory size\n",
    "print(sys.getsizeof(x)/1024)"
   ]
  },
  {
   "cell_type": "markdown",
   "metadata": {},
   "source": [
    "### What is iterable?\n",
    "- Iterable is an object, which one can iterate over\n",
    "- iterable generated an iterator passed to iter() method"
   ]
  },
  {
   "cell_type": "code",
   "execution_count": 10,
   "metadata": {},
   "outputs": [
    {
     "name": "stdout",
     "output_type": "stream",
     "text": [
      "<class 'list'>\n"
     ]
    },
    {
     "data": {
      "text/plain": [
       "list_iterator"
      ]
     },
     "execution_count": 10,
     "metadata": {},
     "output_type": "execute_result"
    }
   ],
   "source": [
    "# L is an iterable throuh which we can iterate \n",
    "L = [1,2,4] \n",
    "print(type(L))\n",
    "\n",
    "# we can extract iterator from L\n",
    "type(iter(L))"
   ]
  },
  {
   "cell_type": "code",
   "execution_count": 11,
   "metadata": {},
   "outputs": [],
   "source": [
    "# we can check if the method is iterable or not is uding dir()\n"
   ]
  },
  {
   "cell_type": "markdown",
   "metadata": {},
   "source": [
    "### What is Generator\n",
    "- Python generators are a simple way of creating iterators."
   ]
  },
  {
   "cell_type": "code",
   "execution_count": 16,
   "metadata": {},
   "outputs": [
    {
     "name": "stdout",
     "output_type": "stream",
     "text": [
      "1\n",
      "4\n",
      "9\n",
      "16\n",
      "25\n",
      "36\n",
      "49\n",
      "64\n",
      "81\n"
     ]
    }
   ],
   "source": [
    "M = [x for x in range(1,10)]\n",
    "for i in M:\n",
    "    print(i**2)\n",
    "    # this will take more space"
   ]
  },
  {
   "cell_type": "code",
   "execution_count": 18,
   "metadata": {},
   "outputs": [
    {
     "name": "stdout",
     "output_type": "stream",
     "text": [
      " First Statement\n",
      " Second Statement\n",
      " Third Statement\n"
     ]
    }
   ],
   "source": [
    "# generator example\n",
    "\n",
    "def gen_demo():\n",
    "\n",
    "    yield \" First Statement\"\n",
    "    yield \" Second Statement\"\n",
    "    yield \" Third Statement\"\n",
    "\n",
    "\n",
    "gen = gen_demo()\n",
    "\n",
    "print(next(gen))\n",
    "print(next(gen))\n",
    "print(next(gen))\n",
    "\n"
   ]
  },
  {
   "cell_type": "code",
   "execution_count": 21,
   "metadata": {},
   "outputs": [
    {
     "name": "stdout",
     "output_type": "stream",
     "text": [
      " First Statement\n",
      " Second Statement\n",
      " Third Statement\n"
     ]
    }
   ],
   "source": [
    "# or use loop \n",
    "gen = gen_demo() # this will not call until \"next\" is not used\n",
    "for i in gen:\n",
    "    print(i)"
   ]
  },
  {
   "cell_type": "code",
   "execution_count": null,
   "metadata": {},
   "outputs": [],
   "source": []
  },
  {
   "cell_type": "code",
   "execution_count": null,
   "metadata": {},
   "outputs": [],
   "source": []
  }
 ],
 "metadata": {
  "kernelspec": {
   "display_name": "Python 3",
   "language": "python",
   "name": "python3"
  },
  "language_info": {
   "codemirror_mode": {
    "name": "ipython",
    "version": 3
   },
   "file_extension": ".py",
   "mimetype": "text/x-python",
   "name": "python",
   "nbconvert_exporter": "python",
   "pygments_lexer": "ipython3",
   "version": "3.12.0"
  }
 },
 "nbformat": 4,
 "nbformat_minor": 2
}
