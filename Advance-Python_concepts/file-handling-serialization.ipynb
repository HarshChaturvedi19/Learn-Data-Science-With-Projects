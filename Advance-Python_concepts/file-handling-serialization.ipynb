{
 "cells": [
  {
   "cell_type": "markdown",
   "metadata": {},
   "source": [
    "### File-Handling"
   ]
  },
  {
   "cell_type": "code",
   "execution_count": 2,
   "metadata": {},
   "outputs": [],
   "source": [
    "## File handling is reading and writing data to files. Python provides built-in functions to work with files.\n",
    "## Steps for file I/O :\n",
    "#1) Open file\n",
    "#2) Wirte/Read file\n",
    "#3) Close the file"
   ]
  },
  {
   "cell_type": "markdown",
   "metadata": {},
   "source": [
    "### Write a file :->"
   ]
  },
  {
   "cell_type": "code",
   "execution_count": null,
   "metadata": {},
   "outputs": [],
   "source": [
    "# case 1 -> if the file is nor present \n",
    "\n",
    "# open a file -->> f = open('file-name.','mode -> wriet (w)/ read (r)')\n",
    "f = open('sample.text','w') # create / file \n",
    "f.write('Hello World') # write in a file , then the data will be stored in thius file \n",
    "f.close() # close the function \n"
   ]
  },
  {
   "cell_type": "code",
   "execution_count": 8,
   "metadata": {},
   "outputs": [
    {
     "ename": "ValueError",
     "evalue": "I/O operation on closed file.",
     "output_type": "error",
     "traceback": [
      "\u001b[1;31m---------------------------------------------------------------------------\u001b[0m",
      "\u001b[1;31mValueError\u001b[0m                                Traceback (most recent call last)",
      "Cell \u001b[1;32mIn[8], line 2\u001b[0m\n\u001b[0;32m      1\u001b[0m \u001b[38;5;66;03m## since file is closed can not do write operation \u001b[39;00m\n\u001b[1;32m----> 2\u001b[0m \u001b[43mf\u001b[49m\u001b[38;5;241;43m.\u001b[39;49m\u001b[43mwrite\u001b[49m\u001b[43m(\u001b[49m\u001b[38;5;124;43m\"\u001b[39;49m\u001b[38;5;124;43mharsh\u001b[39;49m\u001b[38;5;124;43m\"\u001b[39;49m\u001b[43m)\u001b[49m\n",
      "\u001b[1;31mValueError\u001b[0m: I/O operation on closed file."
     ]
    }
   ],
   "source": [
    "## since file is closed can not do write operation \n",
    "f.write(\"harsh\")"
   ]
  },
  {
   "cell_type": "code",
   "execution_count": 9,
   "metadata": {},
   "outputs": [],
   "source": [
    "## Write multiline strings\n",
    "\n",
    "f = open('sample1.txt','w')\n",
    "f.write('hello world')\n",
    "f.write('\\n How are you?')\n",
    "f.close()"
   ]
  },
  {
   "cell_type": "code",
   "execution_count": 11,
   "metadata": {},
   "outputs": [],
   "source": [
    "# case 2 -->> write in a file that is already present\n",
    "f = open('sample.text','w')\n",
    "f.write('Harsh')\n",
    "f.close()\n",
    "\n",
    " # when we do this the existing content is replaced by new one\n",
    " "
   ]
  },
  {
   "cell_type": "code",
   "execution_count": 13,
   "metadata": {},
   "outputs": [],
   "source": [
    "# 'w' mode replace the existing dat a, so to add mre line keeping the old one \n",
    "# we use append -> 'a'\n",
    "f = open('sample1.txt','a')\n",
    "f.write('\\nAdded new line keeping the old one ')\n",
    "f.close()"
   ]
  },
  {
   "cell_type": "code",
   "execution_count": 14,
   "metadata": {},
   "outputs": [],
   "source": [
    "## Write multiple lines insode a file \n",
    "L = ['hello\\n','hi\\n','how are you\\n']\n",
    "f = open('sample.text','w')\n",
    "f.writelines(L)\n",
    "f.close()\n"
   ]
  },
  {
   "cell_type": "markdown",
   "metadata": {},
   "source": [
    "### Read->"
   ]
  },
  {
   "cell_type": "code",
   "execution_count": 16,
   "metadata": {},
   "outputs": [
    {
     "name": "stdout",
     "output_type": "stream",
     "text": [
      "hello\n",
      "hi\n",
      "how are you\n",
      "\n"
     ]
    }
   ],
   "source": [
    "## Read from files \n",
    "# -> using read()\n",
    "\n",
    "f = open('sample.text','r')\n",
    "s = f.read()\n",
    "print(s)\n",
    "f.close()"
   ]
  },
  {
   "cell_type": "code",
   "execution_count": null,
   "metadata": {},
   "outputs": [
    {
     "name": "stdout",
     "output_type": "stream",
     "text": [
      "hello\n",
      "hi\n",
      "h\n"
     ]
    }
   ],
   "source": [
    "# -> Read up to n chars \n",
    "\n",
    "f = open('sample.text','r')\n",
    "s = f.read(10) # read up to 10 char\n",
    "print(s)\n",
    "f.close()"
   ]
  },
  {
   "cell_type": "code",
   "execution_count": null,
   "metadata": {},
   "outputs": [
    {
     "name": "stdout",
     "output_type": "stream",
     "text": [
      "hello\n",
      "\n",
      "hi\n",
      "\n"
     ]
    }
   ],
   "source": [
    "# readline() -> To read line by line \n",
    "\n",
    "f = open('sample.text','r')\n",
    "s = f.readline() # read 1st line\n",
    "# read line change line , and print() also change line \n",
    "l = f.readline() # read 2nd line\n",
    "print(s)\n",
    "print(l)\n",
    "f.close()"
   ]
  },
  {
   "cell_type": "code",
   "execution_count": 22,
   "metadata": {},
   "outputs": [
    {
     "name": "stdout",
     "output_type": "stream",
     "text": [
      "hello\n",
      "hi\n",
      "how are you\n"
     ]
    }
   ],
   "source": [
    "# reading entire using readline\n",
    "\n",
    "f = open('sample.text','r')\n",
    "\n",
    "while True:\n",
    "\n",
    "    data = f.readline()\n",
    "\n",
    "\n",
    "    if data == '':\n",
    "        break\n",
    "\n",
    "    else:\n",
    "        print(data,end='')\n",
    "\n",
    "\n",
    "f.close()\n",
    "        "
   ]
  },
  {
   "cell_type": "markdown",
   "metadata": {},
   "source": [
    "### Using Context Manager (With)\n",
    "\n",
    "- It's a good idea to close a file after usage as it will free up resources.\n",
    "- If we don’t close it, the garbage collector would close it.\n",
    "- `with` keyword closes the file as soon as the usage is over.\n"
   ]
  },
  {
   "cell_type": "code",
   "execution_count": null,
   "metadata": {},
   "outputs": [],
   "source": [
    "# with , write operation\n",
    "with open('sample1.txt','w') as f:\n",
    "    f.write('with Keyword')\n",
    "    # here with keyword close the file automatically "
   ]
  },
  {
   "cell_type": "code",
   "execution_count": 25,
   "metadata": {},
   "outputs": [
    {
     "name": "stdout",
     "output_type": "stream",
     "text": [
      "hello\n",
      "hi\n",
      "how are you\n",
      "\n"
     ]
    }
   ],
   "source": [
    "# with , read operation \n",
    "with open('sample.text','r') as f:\n",
    "    print(f.read())"
   ]
  },
  {
   "cell_type": "code",
   "execution_count": null,
   "metadata": {},
   "outputs": [
    {
     "name": "stdout",
     "output_type": "stream",
     "text": [
      "hello\n",
      "hi\n",
      "h\n",
      "ow are you\n"
     ]
    }
   ],
   "source": [
    "# moving with a file -> 10 char then 10 char\n",
    "with open('sample.text','r') as f:\n",
    "    print(f.read(10)) # first 10 char\n",
    "    print(f.read(10)) # next 10 char\n",
    "    # buffer memeory track how many char is read\n",
    "    \n",
    "\n"
   ]
  },
  {
   "cell_type": "code",
   "execution_count": 29,
   "metadata": {},
   "outputs": [],
   "source": [
    "## benefits? -> To load a big file in a memory \n",
    "big_L = ['Hello world' for i in range(1000)] # 1000 hello world file creating\n",
    "with open('big.txt','w') as f:\n",
    "    f.writelines(big_L)"
   ]
  },
  {
   "cell_type": "code",
   "execution_count": null,
   "metadata": {},
   "outputs": [
    {
     "name": "stdout",
     "output_type": "stream",
     "text": [
      "ello worldHello worldHello worldHello worldHello worldHello worldHello worldHello worldHello worldHeo worldHello worldHello worldHello worldHello worldHello worldHello worldHello worldHello worldHelloorldHello worldHello worldHello worldHello worldHello worldHello worldHello worldHello worldHello wodHello worldHello worldHello worldHello worldHello worldHello worldHello worldHello worldHello worldllo worldHello worldHello worldHello worldHello worldHello worldHello worldHello worldHello worldHel worldHello worldHello worldHello worldHello worldHello worldHello worldHello worldHello worldHello rldHello worldHello worldHello worldHello worldHello worldHello worldHello worldHello worldHello worHello worldHello worldHello worldHello worldHello worldHello worldHello worldHello worldHello worldHlo worldHello worldHello worldHello worldHello worldHello worldHello worldHello worldHello worldHellworldHello worldHello worldHello worldHello worldHello worldHello worldHello worldHello worldHello wldHello worldHello worldHello worldHello worldHello worldHello worldHello worldHello worldHello worlello worldHello worldHello worldHello worldHello worldHello worldHello worldHello worldHello worldHeo worldHello worldHello worldHello worldHello worldHello worldHello worldHello worldHello worldHelloorldHello worldHello worldHello worldHello worldHello worldHello worldHello worldHello worldHello wodHello worldHello worldHello worldHello worldHello worldHello worldHello worldHello worldHello worldllo worldHello worldHello worldHello worldHello worldHello worldHello worldHello worldHello worldHel worldHello worldHello worldHello worldHello worldHello worldHello worldHello worldHello worldHello rldHello worldHello worldHello worldHello worldHello worldHello worldHello worldHello worldHello worHello worldHello worldHello worldHello worldHello worldHello worldHello worldHello worldHello worldHlo worldHello worldHello worldHello worldHello worldHello worldHello worldHello worldHello worldHellworldHello worldHello worldHello worldHello worldHello worldHello worldHello worldHello worldHello wldHello worldHello worldHello worldHello worldHello worldHello worldHello worldHello worldHello worlello worldHello worldHello worldHello worldHello worldHello worldHello worldHello worldHello worldHeo worldHello worldHello worldHello worldHello worldHello worldHello worldHello worldHello worldHelloorldHello worldHello worldHello worldHello worldHello worldHello worldHello worldHello worldHello wodHello worldHello worldHello worldHello worldHello worldHello worldHello worldHello worldHello worldllo worldHello worldHello worldHello worldHello worldHello worldHello worldHello worldHello worldHel worldHello worldHello worldHello worldHello worldHello worldHello worldHello worldHello worldHello rldHello worldHello worldHello worldHello worldHello worldHello worldHello worldHello worldHello worHello worldHello worldHello worldHello worldHello worldHello worldHello worldHello worldHello worldHlo worldHello worldHello worldHello worldHello worldHello worldHello worldHello worldHello worldHellworldHello worldHello worldHello worldHello worldHello worldHello worldHello worldHello worldHello wldHello worldHello worldHello worldHello worldHello worldHello worldHello worldHello worldHello worlello worldHello worldHello worldHello worldHello worldHello worldHello worldHello worldHello worldHeo worldHello worldHello worldHello worldHello worldHello worldHello worldHello worldHello worldHelloorldHello worldHello worldHello worldHello worldHello worldHello worldHello worldHello worldHello wodHello worldHello worldHello worldHello worldHello worldHello worldHello worldHello worldHello world"
     ]
    }
   ],
   "source": [
    "# loading large amount of data chunk by chunk \n",
    "\n",
    "with open('big.txt','r') as f:\n",
    "    chunk_size = 100 \n",
    "\n",
    "    while len(f.read(chunk_size)) > 0:\n",
    "        print(f.read(chunk_size),end='')\n",
    "        f.read(chunk_size)"
   ]
  },
  {
   "cell_type": "markdown",
   "metadata": {},
   "source": [
    "### Problems with working in text mode\n",
    "\n",
    "- Can't work with binary files like images.\n",
    "- Not good for other data types like `int` / `float` / `list` / `tuples`.\n",
    " "
   ]
  },
  {
   "cell_type": "code",
   "execution_count": 32,
   "metadata": {},
   "outputs": [
    {
     "ename": "UnicodeDecodeError",
     "evalue": "'charmap' codec can't decode byte 0x8f in position 57: character maps to <undefined>",
     "output_type": "error",
     "traceback": [
      "\u001b[1;31m---------------------------------------------------------------------------\u001b[0m",
      "\u001b[1;31mUnicodeDecodeError\u001b[0m                        Traceback (most recent call last)",
      "Cell \u001b[1;32mIn[32], line 3\u001b[0m\n\u001b[0;32m      1\u001b[0m \u001b[38;5;66;03m## try to read the image\u001b[39;00m\n\u001b[0;32m      2\u001b[0m \u001b[38;5;28;01mwith\u001b[39;00m \u001b[38;5;28mopen\u001b[39m (\u001b[38;5;124m'\u001b[39m\u001b[38;5;124mimage.png\u001b[39m\u001b[38;5;124m'\u001b[39m,\u001b[38;5;124m'\u001b[39m\u001b[38;5;124mr\u001b[39m\u001b[38;5;124m'\u001b[39m) \u001b[38;5;28;01mas\u001b[39;00m f:\n\u001b[1;32m----> 3\u001b[0m     \u001b[43mf\u001b[49m\u001b[38;5;241;43m.\u001b[39;49m\u001b[43mread\u001b[49m\u001b[43m(\u001b[49m\u001b[43m)\u001b[49m\n",
      "File \u001b[1;32mc:\\Users\\harsh\\AppData\\Local\\Programs\\Python\\Python312\\Lib\\encodings\\cp1252.py:23\u001b[0m, in \u001b[0;36mIncrementalDecoder.decode\u001b[1;34m(self, input, final)\u001b[0m\n\u001b[0;32m     22\u001b[0m \u001b[38;5;28;01mdef\u001b[39;00m \u001b[38;5;21mdecode\u001b[39m(\u001b[38;5;28mself\u001b[39m, \u001b[38;5;28minput\u001b[39m, final\u001b[38;5;241m=\u001b[39m\u001b[38;5;28;01mFalse\u001b[39;00m):\n\u001b[1;32m---> 23\u001b[0m     \u001b[38;5;28;01mreturn\u001b[39;00m \u001b[43mcodecs\u001b[49m\u001b[38;5;241;43m.\u001b[39;49m\u001b[43mcharmap_decode\u001b[49m\u001b[43m(\u001b[49m\u001b[38;5;28;43minput\u001b[39;49m\u001b[43m,\u001b[49m\u001b[38;5;28;43mself\u001b[39;49m\u001b[38;5;241;43m.\u001b[39;49m\u001b[43merrors\u001b[49m\u001b[43m,\u001b[49m\u001b[43mdecoding_table\u001b[49m\u001b[43m)\u001b[49m[\u001b[38;5;241m0\u001b[39m]\n",
      "\u001b[1;31mUnicodeDecodeError\u001b[0m: 'charmap' codec can't decode byte 0x8f in position 57: character maps to <undefined>"
     ]
    }
   ],
   "source": [
    "## try to read the image\n",
    "with open ('image.png','r') as f:\n",
    "    f.read()"
   ]
  },
  {
   "cell_type": "code",
   "execution_count": null,
   "metadata": {},
   "outputs": [],
   "source": [
    "# to read binary code\n",
    "# 'rb' -> read binary \n",
    "\n",
    "with open('image.png','rb') as f:\n",
    "    with open('image1.png','wb') as wf:\n",
    "        wf.write(f.read())\n",
    "         # make a copy of the image , and make the me rb and wb , to read binary \n",
    "         "
   ]
  },
  {
   "cell_type": "code",
   "execution_count": null,
   "metadata": {},
   "outputs": [
    {
     "ename": "TypeError",
     "evalue": "write() argument must be str, not int",
     "output_type": "error",
     "traceback": [
      "\u001b[1;31m---------------------------------------------------------------------------\u001b[0m",
      "\u001b[1;31mTypeError\u001b[0m                                 Traceback (most recent call last)",
      "Cell \u001b[1;32mIn[34], line 3\u001b[0m\n\u001b[0;32m      1\u001b[0m \u001b[38;5;66;03m# working with other data types\u001b[39;00m\n\u001b[0;32m      2\u001b[0m \u001b[38;5;28;01mwith\u001b[39;00m \u001b[38;5;28mopen\u001b[39m(\u001b[38;5;124m'\u001b[39m\u001b[38;5;124msample1.text\u001b[39m\u001b[38;5;124m'\u001b[39m,\u001b[38;5;124m'\u001b[39m\u001b[38;5;124mw\u001b[39m\u001b[38;5;124m'\u001b[39m) \u001b[38;5;28;01mas\u001b[39;00m f:\n\u001b[1;32m----> 3\u001b[0m     \u001b[43mf\u001b[49m\u001b[38;5;241;43m.\u001b[39;49m\u001b[43mwrite\u001b[49m\u001b[43m(\u001b[49m\u001b[38;5;241;43m3\u001b[39;49m\u001b[43m)\u001b[49m\n",
      "\u001b[1;31mTypeError\u001b[0m: write() argument must be str, not int"
     ]
    }
   ],
   "source": [
    "# working with other data types\n",
    "with open('sample1.text','w') as f:\n",
    "    f.write(3)\n",
    "\n",
    "# to write in the file , it has to be a string \n"
   ]
  },
  {
   "cell_type": "code",
   "execution_count": null,
   "metadata": {},
   "outputs": [],
   "source": [
    "with open('sample1.text','w') as f:\n",
    "    f.write('3')\n",
    "    "
   ]
  },
  {
   "cell_type": "code",
   "execution_count": null,
   "metadata": {},
   "outputs": [],
   "source": [
    "# more complex data type \n",
    "d = {\n",
    "  'name':'Harsh',\n",
    "  'age':22,\n",
    "  'gender':'male'\n",
    "    }\n",
    "\n",
    "with open('sample1.text','w') as f:\n",
    "    f.write(str(d)) # need to convert dict -> str and vice-versa is not true\n",
    "    \n"
   ]
  },
  {
   "cell_type": "code",
   "execution_count": null,
   "metadata": {},
   "outputs": [],
   "source": [
    "# to solve this problem , there is Sewrialization and Deserialization\n",
    "# to write more complex data type"
   ]
  },
  {
   "cell_type": "code",
   "execution_count": null,
   "metadata": {},
   "outputs": [],
   "source": []
  }
 ],
 "metadata": {
  "kernelspec": {
   "display_name": "Python 3",
   "language": "python",
   "name": "python3"
  },
  "language_info": {
   "codemirror_mode": {
    "name": "ipython",
    "version": 3
   },
   "file_extension": ".py",
   "mimetype": "text/x-python",
   "name": "python",
   "nbconvert_exporter": "python",
   "pygments_lexer": "ipython3",
   "version": "3.12.0"
  }
 },
 "nbformat": 4,
 "nbformat_minor": 2
}
