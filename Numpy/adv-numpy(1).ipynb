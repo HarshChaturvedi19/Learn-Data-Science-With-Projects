{
 "cells": [
  {
   "cell_type": "code",
   "execution_count": 1,
   "metadata": {},
   "outputs": [],
   "source": [
    "# np.sort\n",
    "# -> Return a sorted copy of an array \n"
   ]
  },
  {
   "cell_type": "code",
   "execution_count": 2,
   "metadata": {},
   "outputs": [
    {
     "data": {
      "text/plain": [
       "array([28, 11, 26, 60, 62, 89, 86, 80, 91, 22, 17, 80, 95, 41, 90],\n",
       "      dtype=int32)"
      ]
     },
     "execution_count": 2,
     "metadata": {},
     "output_type": "execute_result"
    }
   ],
   "source": [
    "import numpy as np\n",
    "a = np.random.randint(1,100,15)\n",
    "a"
   ]
  },
  {
   "cell_type": "code",
   "execution_count": 4,
   "metadata": {},
   "outputs": [
    {
     "data": {
      "text/plain": [
       "array([[10, 26, 65, 87],\n",
       "       [11, 82, 10, 84],\n",
       "       [11, 91, 96, 38],\n",
       "       [28, 72, 54, 43],\n",
       "       [48, 27, 88, 28],\n",
       "       [21, 64, 42, 21]], dtype=int32)"
      ]
     },
     "execution_count": 4,
     "metadata": {},
     "output_type": "execute_result"
    }
   ],
   "source": [
    "b = np.random.randint(1,100,24).reshape(6,4)\n",
    "b"
   ]
  },
  {
   "cell_type": "code",
   "execution_count": 5,
   "metadata": {},
   "outputs": [
    {
     "data": {
      "text/plain": [
       "array([11, 17, 22, 26, 28, 41, 60, 62, 80, 80, 86, 89, 90, 91, 95],\n",
       "      dtype=int32)"
      ]
     },
     "execution_count": 5,
     "metadata": {},
     "output_type": "execute_result"
    }
   ],
   "source": [
    "# sorted array \n",
    "np.sort(a)"
   ]
  },
  {
   "cell_type": "code",
   "execution_count": 8,
   "metadata": {},
   "outputs": [
    {
     "data": {
      "text/plain": [
       "array([[10, 26, 65, 87],\n",
       "       [10, 11, 82, 84],\n",
       "       [11, 38, 91, 96],\n",
       "       [28, 43, 54, 72],\n",
       "       [27, 28, 48, 88],\n",
       "       [21, 21, 42, 64]], dtype=int32)"
      ]
     },
     "execution_count": 8,
     "metadata": {},
     "output_type": "execute_result"
    }
   ],
   "source": [
    "np.sort(b) # row wise sorting"
   ]
  },
  {
   "cell_type": "code",
   "execution_count": 7,
   "metadata": {},
   "outputs": [],
   "source": [
    "# numpy.sort(a, axis=-1, kind=None, order=None)\n",
    "# axis : int, optional\n",
    "# Axis along which to sort. Default is -1, which means sort along the last axis.\n",
    "# kind : {‘quicksort’, ‘mergesort’, ‘heapsort’, ‘stable’}, optional\n",
    "# Sorting algorithm. Default is ‘quicksort’.\n",
    "# order : str or list of str, optional\n"
   ]
  },
  {
   "cell_type": "code",
   "execution_count": 10,
   "metadata": {},
   "outputs": [
    {
     "data": {
      "text/plain": [
       "array([[10, 26, 10, 21],\n",
       "       [11, 27, 42, 28],\n",
       "       [11, 64, 54, 38],\n",
       "       [21, 72, 65, 43],\n",
       "       [28, 82, 88, 84],\n",
       "       [48, 91, 96, 87]], dtype=int32)"
      ]
     },
     "execution_count": 10,
     "metadata": {},
     "output_type": "execute_result"
    }
   ],
   "source": [
    "# coulmn wise sorting\n",
    "np.sort(b, axis=0)\n",
    "# axis = 0 means column wise sorting\n",
    "# axis = 1 means row wise sorting\n"
   ]
  },
  {
   "cell_type": "code",
   "execution_count": 11,
   "metadata": {},
   "outputs": [
    {
     "data": {
      "text/plain": [
       "array([95, 91, 90, 89, 86, 80, 80, 62, 60, 41, 28, 26, 22, 17, 11],\n",
       "      dtype=int32)"
      ]
     },
     "execution_count": 11,
     "metadata": {},
     "output_type": "execute_result"
    }
   ],
   "source": [
    "# decreasing order sorting\n",
    "np.sort(a)[::-1]"
   ]
  },
  {
   "cell_type": "code",
   "execution_count": 12,
   "metadata": {},
   "outputs": [
    {
     "data": {
      "text/plain": [
       "array([62, 64,  5, 10, 27, 91, 17, 62, 57, 46, 73, 92, 28, 24, 76],\n",
       "      dtype=int32)"
      ]
     },
     "execution_count": 12,
     "metadata": {},
     "output_type": "execute_result"
    }
   ],
   "source": [
    "## APPEND -> np.append(arr, values, axis=None)\n",
    "# Append values to the end of an array.\n",
    "a = np.random.randint(1,100,15)\n",
    "a"
   ]
  },
  {
   "cell_type": "code",
   "execution_count": 14,
   "metadata": {},
   "outputs": [
    {
     "data": {
      "text/plain": [
       "array([ 62,  64,   5,  10,  27,  91,  17,  62,  57,  46,  73,  92,  28,\n",
       "        24,  76, 200])"
      ]
     },
     "execution_count": 14,
     "metadata": {},
     "output_type": "execute_result"
    }
   ],
   "source": [
    "# add 200 at the end of array a\n",
    "np.append(a,200)"
   ]
  },
  {
   "cell_type": "code",
   "execution_count": 15,
   "metadata": {},
   "outputs": [
    {
     "data": {
      "text/plain": [
       "array([[10, 26, 65, 87],\n",
       "       [11, 82, 10, 84],\n",
       "       [11, 91, 96, 38],\n",
       "       [28, 72, 54, 43],\n",
       "       [48, 27, 88, 28],\n",
       "       [21, 64, 42, 21]], dtype=int32)"
      ]
     },
     "execution_count": 15,
     "metadata": {},
     "output_type": "execute_result"
    }
   ],
   "source": [
    "# append ua=sing 2d array \n",
    "b"
   ]
  },
  {
   "cell_type": "code",
   "execution_count": 16,
   "metadata": {},
   "outputs": [
    {
     "data": {
      "text/plain": [
       "array([[10., 26., 65., 87.,  1.],\n",
       "       [11., 82., 10., 84.,  1.],\n",
       "       [11., 91., 96., 38.,  1.],\n",
       "       [28., 72., 54., 43.,  1.],\n",
       "       [48., 27., 88., 28.,  1.],\n",
       "       [21., 64., 42., 21.,  1.]])"
      ]
     },
     "execution_count": 16,
     "metadata": {},
     "output_type": "execute_result"
    }
   ],
   "source": [
    "# add one columna at end with 1s\n",
    "np.append(b,np.ones((b.shape[0],1)),axis=1)"
   ]
  },
  {
   "cell_type": "code",
   "execution_count": 20,
   "metadata": {},
   "outputs": [
    {
     "name": "stdout",
     "output_type": "stream",
     "text": [
      "[[0 1 2]\n",
      " [3 4 5]]\n",
      "[[ 6  7  8]\n",
      " [ 9 10 11]]\n"
     ]
    }
   ],
   "source": [
    "## np.concatenate((a1, a2, ...), axis=0, out=None)\n",
    "# Join a sequence of arrays along an existing axis.\n",
    "c = np.arange(6).reshape(2,3)\n",
    "d = np.arange(6,12).reshape(2,3)\n",
    "print(c)    \n",
    "print(d)"
   ]
  },
  {
   "cell_type": "code",
   "execution_count": 21,
   "metadata": {},
   "outputs": [
    {
     "data": {
      "text/plain": [
       "array([[ 0,  1,  2],\n",
       "       [ 3,  4,  5],\n",
       "       [ 6,  7,  8],\n",
       "       [ 9, 10, 11]])"
      ]
     },
     "execution_count": 21,
     "metadata": {},
     "output_type": "execute_result"
    }
   ],
   "source": [
    "# concatinate c and d row wise\n",
    "np.concatenate((c,d),axis=0)"
   ]
  },
  {
   "cell_type": "code",
   "execution_count": 22,
   "metadata": {},
   "outputs": [
    {
     "data": {
      "text/plain": [
       "array([[ 0,  1,  2,  6,  7,  8],\n",
       "       [ 3,  4,  5,  9, 10, 11]])"
      ]
     },
     "execution_count": 22,
     "metadata": {},
     "output_type": "execute_result"
    }
   ],
   "source": [
    "# column wise concatination\n",
    "np.concatenate((c,d),axis=1)"
   ]
  },
  {
   "cell_type": "code",
   "execution_count": 23,
   "metadata": {},
   "outputs": [
    {
     "data": {
      "text/plain": [
       "array([1, 2, 3, 4, 5, 6, 7, 8, 9])"
      ]
     },
     "execution_count": 23,
     "metadata": {},
     "output_type": "execute_result"
    }
   ],
   "source": [
    "## np.unique(ar, return_index=False, return_inverse=False, return_counts=False, axis=None)\n",
    "# Find the unique elements of an array.\n",
    "\n",
    "# with the help of unique we can find the unique elements of an array\n",
    "\n",
    "e = np.array([1,2,3,4,5,6,7,8,9,1,2,3,4,5,6,7,8,9])\n",
    "np.unique(e)"
   ]
  },
  {
   "cell_type": "code",
   "execution_count": 24,
   "metadata": {},
   "outputs": [],
   "source": [
    "## np.expand_dims(a, axis)\n",
    "# Expand the shape of an array.\n",
    "# Insert a new axis that will appear at the axis position in the expanded array shape.\n",
    "# axis : int\n",
    "# Position in the expanded axes where the new axis is placed.\n"
   ]
  },
  {
   "cell_type": "code",
   "execution_count": 25,
   "metadata": {},
   "outputs": [
    {
     "data": {
      "text/plain": [
       "array([28, 14, 67, 84, 15, 14, 11, 37, 93, 14, 87, 58, 73, 25, 90],\n",
       "      dtype=int32)"
      ]
     },
     "execution_count": 25,
     "metadata": {},
     "output_type": "execute_result"
    }
   ],
   "source": [
    "a"
   ]
  },
  {
   "cell_type": "code",
   "execution_count": 27,
   "metadata": {},
   "outputs": [
    {
     "data": {
      "text/plain": [
       "(1, 15)"
      ]
     },
     "execution_count": 27,
     "metadata": {},
     "output_type": "execute_result"
    }
   ],
   "source": [
    "# convert this 1d array into 2d array\n",
    "np.expand_dims(a, axis=0).shape"
   ]
  },
  {
   "cell_type": "code",
   "execution_count": 28,
   "metadata": {},
   "outputs": [
    {
     "data": {
      "text/plain": [
       "array([[28],\n",
       "       [14],\n",
       "       [67],\n",
       "       [84],\n",
       "       [15],\n",
       "       [14],\n",
       "       [11],\n",
       "       [37],\n",
       "       [93],\n",
       "       [14],\n",
       "       [87],\n",
       "       [58],\n",
       "       [73],\n",
       "       [25],\n",
       "       [90]], dtype=int32)"
      ]
     },
     "execution_count": 28,
     "metadata": {},
     "output_type": "execute_result"
    }
   ],
   "source": [
    "np.expand_dims(a, axis=1)"
   ]
  },
  {
   "cell_type": "code",
   "execution_count": 29,
   "metadata": {},
   "outputs": [],
   "source": [
    "# usecase of this -> in ml we need to convert 1d array into 2d array\n",
    "# for that we use expand_dims\n"
   ]
  },
  {
   "cell_type": "code",
   "execution_count": 30,
   "metadata": {},
   "outputs": [],
   "source": [
    "# np.where(condition[, x, y])\n",
    "# Return elements chosen from x or y depending on condition.\n",
    "# condition : array_like, bool\n",
    "# Where True, yield x, otherwise yield y.\n",
    "# x, y : array_like\n",
    "# Values from which to choose. x, y and condition need to be broadcastable to some shape.\n"
   ]
  },
  {
   "cell_type": "code",
   "execution_count": 31,
   "metadata": {},
   "outputs": [
    {
     "data": {
      "text/plain": [
       "array([28, 14, 67, 84, 15, 14, 11, 37, 93, 14, 87, 58, 73, 25, 90],\n",
       "      dtype=int32)"
      ]
     },
     "execution_count": 31,
     "metadata": {},
     "output_type": "execute_result"
    }
   ],
   "source": [
    "a"
   ]
  },
  {
   "cell_type": "code",
   "execution_count": 33,
   "metadata": {},
   "outputs": [
    {
     "data": {
      "text/plain": [
       "(array([ 2,  3,  8, 10, 11, 12, 14]),)"
      ]
     },
     "execution_count": 33,
     "metadata": {},
     "output_type": "execute_result"
    }
   ],
   "source": [
    "# find all indices where value is greater than 50\n",
    "np.where(a>50) # gives indices"
   ]
  },
  {
   "cell_type": "code",
   "execution_count": 34,
   "metadata": {},
   "outputs": [
    {
     "data": {
      "text/plain": [
       "array([ 28,  14, 100, 100,  15,  14,  11,  37, 100,  14, 100, 100, 100,\n",
       "        25, 100], dtype=int32)"
      ]
     },
     "execution_count": 34,
     "metadata": {},
     "output_type": "execute_result"
    }
   ],
   "source": [
    "# replace all values greater than 50 with 100\n",
    "np.where(a>50,100,a)"
   ]
  },
  {
   "cell_type": "code",
   "execution_count": 35,
   "metadata": {},
   "outputs": [],
   "source": [
    "## np.argmax(a, axis=None, out=None)\n",
    "# Returns the indices of the maximum values along an axis.\n",
    "# axis : int, optional\n",
    "# By default, the index is into the flattened array, otherwise along the specified axis.\n",
    "# out : array, optional\n",
    "# If provided, the result will be inserted into this array. It should be of the appropriate shape and dtype."
   ]
  },
  {
   "cell_type": "code",
   "execution_count": 36,
   "metadata": {},
   "outputs": [
    {
     "data": {
      "text/plain": [
       "array([28, 14, 67, 84, 15, 14, 11, 37, 93, 14, 87, 58, 73, 25, 90],\n",
       "      dtype=int32)"
      ]
     },
     "execution_count": 36,
     "metadata": {},
     "output_type": "execute_result"
    }
   ],
   "source": [
    "a"
   ]
  },
  {
   "cell_type": "code",
   "execution_count": 37,
   "metadata": {},
   "outputs": [
    {
     "data": {
      "text/plain": [
       "np.int64(8)"
      ]
     },
     "execution_count": 37,
     "metadata": {},
     "output_type": "execute_result"
    }
   ],
   "source": [
    "# in a where is the largest element \n",
    "np.argmax(a)"
   ]
  },
  {
   "cell_type": "code",
   "execution_count": 38,
   "metadata": {},
   "outputs": [
    {
     "data": {
      "text/plain": [
       "array([[10, 26, 65, 87],\n",
       "       [11, 82, 10, 84],\n",
       "       [11, 91, 96, 38],\n",
       "       [28, 72, 54, 43],\n",
       "       [48, 27, 88, 28],\n",
       "       [21, 64, 42, 21]], dtype=int32)"
      ]
     },
     "execution_count": 38,
     "metadata": {},
     "output_type": "execute_result"
    }
   ],
   "source": [
    "b"
   ]
  },
  {
   "cell_type": "code",
   "execution_count": 39,
   "metadata": {},
   "outputs": [
    {
     "data": {
      "text/plain": [
       "array([4, 2, 2, 0])"
      ]
     },
     "execution_count": 39,
     "metadata": {},
     "output_type": "execute_result"
    }
   ],
   "source": [
    "np.argmax(b,axis=0) # column wise"
   ]
  },
  {
   "cell_type": "code",
   "execution_count": 40,
   "metadata": {},
   "outputs": [
    {
     "data": {
      "text/plain": [
       "array([3, 3, 2, 1, 2, 1])"
      ]
     },
     "execution_count": 40,
     "metadata": {},
     "output_type": "execute_result"
    }
   ],
   "source": [
    "# row wise\n",
    "np.argmax(b,axis=1)"
   ]
  },
  {
   "cell_type": "code",
   "execution_count": 41,
   "metadata": {},
   "outputs": [],
   "source": [
    "## np.argmin(a, axis=None, out=None)\n",
    "# Returns the indices of the minimum values along an axis.\n",
    "# axis : int, optional\n",
    "# By default, the index is into the flattened array, otherwise along the specified axis.\n",
    "# out : array, optional\n",
    "# If provided, the result will be inserted into this array. It should be of the appropriate shape and dtype.\n"
   ]
  },
  {
   "cell_type": "code",
   "execution_count": 42,
   "metadata": {},
   "outputs": [
    {
     "data": {
      "text/plain": [
       "np.int64(6)"
      ]
     },
     "execution_count": 42,
     "metadata": {},
     "output_type": "execute_result"
    }
   ],
   "source": [
    "np.argmin(a)"
   ]
  },
  {
   "cell_type": "markdown",
   "metadata": {},
   "source": [
    "### np.cumsum\n",
    "\n",
    "- numpy.cumsum() function is used when we want to compute the cumulative sum if aray elements over a given axis"
   ]
  },
  {
   "cell_type": "code",
   "execution_count": 43,
   "metadata": {},
   "outputs": [],
   "source": [
    "# cumulative sum -> np.cumsum(a, axis=None, dtype=None, out=None)\n",
    "# Return the cumulative sum of the elements along a given axis.\n",
    "# what is cumulative sum -> [1,2,3,4,5] -> [1,3,6,10,15]\n",
    "# means -> 1, 1+2, 1+2+3, 1+2+3+4, 1+2+3+4+5\n",
    "\n"
   ]
  },
  {
   "cell_type": "code",
   "execution_count": 44,
   "metadata": {},
   "outputs": [
    {
     "data": {
      "text/plain": [
       "array([28, 14, 67, 84, 15, 14, 11, 37, 93, 14, 87, 58, 73, 25, 90],\n",
       "      dtype=int32)"
      ]
     },
     "execution_count": 44,
     "metadata": {},
     "output_type": "execute_result"
    }
   ],
   "source": [
    "a"
   ]
  },
  {
   "cell_type": "code",
   "execution_count": 45,
   "metadata": {},
   "outputs": [
    {
     "data": {
      "text/plain": [
       "array([ 28,  42, 109, 193, 208, 222, 233, 270, 363, 377, 464, 522, 595,\n",
       "       620, 710])"
      ]
     },
     "execution_count": 45,
     "metadata": {},
     "output_type": "execute_result"
    }
   ],
   "source": [
    "np.cumsum(a)"
   ]
  },
  {
   "cell_type": "markdown",
   "metadata": {},
   "source": [
    "### np.percentile\n",
    "\n",
    "- numpy.percentile() function used to compute the nth percentile of the given data(array elements) along the spefied axis."
   ]
  },
  {
   "cell_type": "code",
   "execution_count": 51,
   "metadata": {},
   "outputs": [],
   "source": [
    "# np.percentile(a, q, axis=None, out=None, overwrite_input=False, interpolation='linear', keepdims=False)\n",
    "# Compute the q-th percentile of the data along the specified axis.\n",
    "# q : float in range of [0,100] (or sequence of floats)\n",
    "# Percentile to compute, which must be between 0 and 100 inclusive.\n",
    "# formula -> (p/100) * (n+1) -> p = 25, n = 10 -> (25/100) * (10+1) = 2.75\n",
    "# 2.75th index value is 2nd index value\n"
   ]
  },
  {
   "cell_type": "code",
   "execution_count": 47,
   "metadata": {},
   "outputs": [
    {
     "data": {
      "text/plain": [
       "array([28, 14, 67, 84, 15, 14, 11, 37, 93, 14, 87, 58, 73, 25, 90],\n",
       "      dtype=int32)"
      ]
     },
     "execution_count": 47,
     "metadata": {},
     "output_type": "execute_result"
    }
   ],
   "source": [
    "a"
   ]
  },
  {
   "cell_type": "code",
   "execution_count": 48,
   "metadata": {},
   "outputs": [
    {
     "data": {
      "text/plain": [
       "np.float64(93.0)"
      ]
     },
     "execution_count": 48,
     "metadata": {},
     "output_type": "execute_result"
    }
   ],
   "source": [
    "# find 100th percentile \n",
    "np.percentile(a,100)"
   ]
  },
  {
   "cell_type": "code",
   "execution_count": 49,
   "metadata": {},
   "outputs": [
    {
     "data": {
      "text/plain": [
       "np.float64(11.0)"
      ]
     },
     "execution_count": 49,
     "metadata": {},
     "output_type": "execute_result"
    }
   ],
   "source": [
    "# 0th percentile \n",
    "np.percentile(a,0)"
   ]
  },
  {
   "cell_type": "code",
   "execution_count": 50,
   "metadata": {},
   "outputs": [
    {
     "data": {
      "text/plain": [
       "np.float64(37.0)"
      ]
     },
     "execution_count": 50,
     "metadata": {},
     "output_type": "execute_result"
    }
   ],
   "source": [
    "# 50th percentile\n",
    "np.percentile(a,50)"
   ]
  },
  {
   "cell_type": "code",
   "execution_count": null,
   "metadata": {},
   "outputs": [],
   "source": []
  }
 ],
 "metadata": {
  "kernelspec": {
   "display_name": "Python 3",
   "language": "python",
   "name": "python3"
  },
  "language_info": {
   "codemirror_mode": {
    "name": "ipython",
    "version": 3
   },
   "file_extension": ".py",
   "mimetype": "text/x-python",
   "name": "python",
   "nbconvert_exporter": "python",
   "pygments_lexer": "ipython3",
   "version": "3.12.0"
  }
 },
 "nbformat": 4,
 "nbformat_minor": 2
}
