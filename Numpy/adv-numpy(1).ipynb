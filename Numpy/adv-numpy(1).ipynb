{
 "cells": [
  {
   "cell_type": "code",
   "execution_count": 1,
   "metadata": {},
   "outputs": [],
   "source": [
    "# np.sort\n",
    "# -> Return a sorted copy of an array \n"
   ]
  },
  {
   "cell_type": "code",
   "execution_count": 2,
   "metadata": {},
   "outputs": [
    {
     "data": {
      "text/plain": [
       "array([28, 11, 26, 60, 62, 89, 86, 80, 91, 22, 17, 80, 95, 41, 90],\n",
       "      dtype=int32)"
      ]
     },
     "execution_count": 2,
     "metadata": {},
     "output_type": "execute_result"
    }
   ],
   "source": [
    "import numpy as np\n",
    "a = np.random.randint(1,100,15)\n",
    "a"
   ]
  },
  {
   "cell_type": "code",
   "execution_count": 4,
   "metadata": {},
   "outputs": [
    {
     "data": {
      "text/plain": [
       "array([[10, 26, 65, 87],\n",
       "       [11, 82, 10, 84],\n",
       "       [11, 91, 96, 38],\n",
       "       [28, 72, 54, 43],\n",
       "       [48, 27, 88, 28],\n",
       "       [21, 64, 42, 21]], dtype=int32)"
      ]
     },
     "execution_count": 4,
     "metadata": {},
     "output_type": "execute_result"
    }
   ],
   "source": [
    "b = np.random.randint(1,100,24).reshape(6,4)\n",
    "b"
   ]
  },
  {
   "cell_type": "code",
   "execution_count": 5,
   "metadata": {},
   "outputs": [
    {
     "data": {
      "text/plain": [
       "array([11, 17, 22, 26, 28, 41, 60, 62, 80, 80, 86, 89, 90, 91, 95],\n",
       "      dtype=int32)"
      ]
     },
     "execution_count": 5,
     "metadata": {},
     "output_type": "execute_result"
    }
   ],
   "source": [
    "# sorted array \n",
    "np.sort(a)"
   ]
  },
  {
   "cell_type": "code",
   "execution_count": 8,
   "metadata": {},
   "outputs": [
    {
     "data": {
      "text/plain": [
       "array([[10, 26, 65, 87],\n",
       "       [10, 11, 82, 84],\n",
       "       [11, 38, 91, 96],\n",
       "       [28, 43, 54, 72],\n",
       "       [27, 28, 48, 88],\n",
       "       [21, 21, 42, 64]], dtype=int32)"
      ]
     },
     "execution_count": 8,
     "metadata": {},
     "output_type": "execute_result"
    }
   ],
   "source": [
    "np.sort(b) # row wise sorting"
   ]
  },
  {
   "cell_type": "code",
   "execution_count": 7,
   "metadata": {},
   "outputs": [],
   "source": [
    "# numpy.sort(a, axis=-1, kind=None, order=None)\n",
    "# axis : int, optional\n",
    "# Axis along which to sort. Default is -1, which means sort along the last axis.\n",
    "# kind : {‘quicksort’, ‘mergesort’, ‘heapsort’, ‘stable’}, optional\n",
    "# Sorting algorithm. Default is ‘quicksort’.\n",
    "# order : str or list of str, optional\n"
   ]
  },
  {
   "cell_type": "code",
   "execution_count": 10,
   "metadata": {},
   "outputs": [
    {
     "data": {
      "text/plain": [
       "array([[10, 26, 10, 21],\n",
       "       [11, 27, 42, 28],\n",
       "       [11, 64, 54, 38],\n",
       "       [21, 72, 65, 43],\n",
       "       [28, 82, 88, 84],\n",
       "       [48, 91, 96, 87]], dtype=int32)"
      ]
     },
     "execution_count": 10,
     "metadata": {},
     "output_type": "execute_result"
    }
   ],
   "source": [
    "# coulmn wise sorting\n",
    "np.sort(b, axis=0)\n",
    "# axis = 0 means column wise sorting\n",
    "# axis = 1 means row wise sorting\n"
   ]
  },
  {
   "cell_type": "code",
   "execution_count": 11,
   "metadata": {},
   "outputs": [
    {
     "data": {
      "text/plain": [
       "array([95, 91, 90, 89, 86, 80, 80, 62, 60, 41, 28, 26, 22, 17, 11],\n",
       "      dtype=int32)"
      ]
     },
     "execution_count": 11,
     "metadata": {},
     "output_type": "execute_result"
    }
   ],
   "source": [
    "# decreasing order sorting\n",
    "np.sort(a)[::-1]"
   ]
  },
  {
   "cell_type": "code",
   "execution_count": 12,
   "metadata": {},
   "outputs": [
    {
     "data": {
      "text/plain": [
       "array([62, 64,  5, 10, 27, 91, 17, 62, 57, 46, 73, 92, 28, 24, 76],\n",
       "      dtype=int32)"
      ]
     },
     "execution_count": 12,
     "metadata": {},
     "output_type": "execute_result"
    }
   ],
   "source": [
    "## APPEND -> np.append(arr, values, axis=None)\n",
    "# Append values to the end of an array.\n",
    "a = np.random.randint(1,100,15)\n",
    "a"
   ]
  },
  {
   "cell_type": "code",
   "execution_count": 14,
   "metadata": {},
   "outputs": [
    {
     "data": {
      "text/plain": [
       "array([ 62,  64,   5,  10,  27,  91,  17,  62,  57,  46,  73,  92,  28,\n",
       "        24,  76, 200])"
      ]
     },
     "execution_count": 14,
     "metadata": {},
     "output_type": "execute_result"
    }
   ],
   "source": [
    "# add 200 at the end of array a\n",
    "np.append(a,200)"
   ]
  },
  {
   "cell_type": "code",
   "execution_count": 15,
   "metadata": {},
   "outputs": [
    {
     "data": {
      "text/plain": [
       "array([[10, 26, 65, 87],\n",
       "       [11, 82, 10, 84],\n",
       "       [11, 91, 96, 38],\n",
       "       [28, 72, 54, 43],\n",
       "       [48, 27, 88, 28],\n",
       "       [21, 64, 42, 21]], dtype=int32)"
      ]
     },
     "execution_count": 15,
     "metadata": {},
     "output_type": "execute_result"
    }
   ],
   "source": [
    "# append ua=sing 2d array \n",
    "b"
   ]
  },
  {
   "cell_type": "code",
   "execution_count": 16,
   "metadata": {},
   "outputs": [
    {
     "data": {
      "text/plain": [
       "array([[10., 26., 65., 87.,  1.],\n",
       "       [11., 82., 10., 84.,  1.],\n",
       "       [11., 91., 96., 38.,  1.],\n",
       "       [28., 72., 54., 43.,  1.],\n",
       "       [48., 27., 88., 28.,  1.],\n",
       "       [21., 64., 42., 21.,  1.]])"
      ]
     },
     "execution_count": 16,
     "metadata": {},
     "output_type": "execute_result"
    }
   ],
   "source": [
    "# add one columna at end with 1s\n",
    "np.append(b,np.ones((b.shape[0],1)),axis=1)"
   ]
  },
  {
   "cell_type": "code",
   "execution_count": null,
   "metadata": {},
   "outputs": [],
   "source": []
  }
 ],
 "metadata": {
  "kernelspec": {
   "display_name": "Python 3",
   "language": "python",
   "name": "python3"
  },
  "language_info": {
   "codemirror_mode": {
    "name": "ipython",
    "version": 3
   },
   "file_extension": ".py",
   "mimetype": "text/x-python",
   "name": "python",
   "nbconvert_exporter": "python",
   "pygments_lexer": "ipython3",
   "version": "3.12.0"
  }
 },
 "nbformat": 4,
 "nbformat_minor": 2
}
