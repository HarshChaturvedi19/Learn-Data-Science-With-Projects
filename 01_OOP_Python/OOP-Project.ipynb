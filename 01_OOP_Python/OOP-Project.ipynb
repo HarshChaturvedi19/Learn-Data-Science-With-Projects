{
 "cells": [
  {
   "cell_type": "code",
   "execution_count": 1,
   "metadata": {},
   "outputs": [],
   "source": [
    "## This project is Build using NLP cloud API's\n",
    "\n",
    "# ** This project is not build using GUI .\n",
    "# Name_entity recoginition\n",
    "# Language Detection\n",
    "# Sentiment Analysis \n"
   ]
  },
  {
   "cell_type": "code",
   "execution_count": 6,
   "metadata": {},
   "outputs": [
    {
     "data": {
      "text/plain": [
       "{'entities': [{'start': 26,\n",
       "   'end': 36,\n",
       "   'type': 'programming languages',\n",
       "   'text': 'Javascript'},\n",
       "  {'start': 102,\n",
       "   'end': 108,\n",
       "   'type': 'programming languages',\n",
       "   'text': 'Python'},\n",
       "  {'start': 165, 'end': 167, 'type': 'programming languages', 'text': 'Go'}]}"
      ]
     },
     "execution_count": 6,
     "metadata": {},
     "output_type": "execute_result"
    }
   ],
   "source": [
    "## NER example code from NLP cloud\n",
    "\n",
    "import nlpcloud\n",
    "\n",
    "client = nlpcloud.Client(\"finetuned-llama-3-70b\", \"392fe7f31a0905796143e47bc12155a41a22bc33\", gpu=True)\n",
    "client.entities(\n",
    "    \"\"\"John Doe started learning Javascript when he was 15 years old. After a couple of years he switched to Python and starter learning low level programming. He is now a Go expert at Google.\"\"\",\n",
    "    searched_entity=\"programming languages\"\n",
    ")"
   ]
  },
  {
   "cell_type": "code",
   "execution_count": null,
   "metadata": {},
   "outputs": [],
   "source": [
    "# For dataBase we use Dictonary as a database -->> \n"
   ]
  },
  {
   "cell_type": "code",
   "execution_count": null,
   "metadata": {},
   "outputs": [
    {
     "name": "stdout",
     "output_type": "stream",
     "text": [
      "Registration Successful. Now Login ..\n",
      "{'harsh@123gmail.com': ['harsh', '1223']}\n",
      "Login\n"
     ]
    }
   ],
   "source": [
    "class NLPapp:\n",
    "    def __init__(self):\n",
    "\n",
    "        self.__database = {} # store data( private)\n",
    "        self.__first_menu()\n",
    "\n",
    "## Fist menu -> user Intercation \n",
    "    def __first_menu(self):\n",
    "        firts_input = input(\"\"\"\n",
    "Hi! how would you like to proceed?\n",
    "              1. Not a member? Register\n",
    "              2. Already a member? Login\n",
    "              3. Galti se aa gaye? Exit\n",
    "              \"\"\")\n",
    "        \n",
    "        if firts_input == '1':\n",
    "            self.__register()\n",
    "        elif firts_input == '2':\n",
    "            self.__login()\n",
    "\n",
    "        else:\n",
    "            exit()\n",
    "        \n",
    "\n",
    "    def __register(self):\n",
    "\n",
    "        name = input('ENter Name:->')\n",
    "        email = input('Enter mail:->')\n",
    "        password = input('Enter Password:->')\n",
    "\n",
    "\n",
    "        if email in self.__database:\n",
    "            print('Email already exists...')\n",
    "\n",
    "        else:\n",
    "           self.__database[email] = [name,password]\n",
    "           print('Registration Successful. Now Login ..')\n",
    "           print(self.__database)\n",
    "           self.__login()\n",
    "        \n",
    "\n",
    "    def __login(self):\n",
    "        email = input('Enter email')\n",
    "        password = input('Enter password')\n",
    "\n",
    "        if email in self.__database:\n",
    "            if self.__database[email][1] == password:\n",
    "                print('LOgin Successful..')\n",
    "                self.__second_menu()\n",
    "            else:\n",
    "                print('Wrong Password . Try Again...')\n",
    "                self.__login()\n",
    "        else:\n",
    "            print('This email is not registered')\n",
    "            self.__first_menu()\n",
    "       \n",
    "\n",
    " \n",
    "obj = NLPapp()\n",
    "\n",
    "\n",
    "    \n"
   ]
  },
  {
   "cell_type": "code",
   "execution_count": null,
   "metadata": {},
   "outputs": [],
   "source": []
  }
 ],
 "metadata": {
  "kernelspec": {
   "display_name": "Python 3",
   "language": "python",
   "name": "python3"
  },
  "language_info": {
   "codemirror_mode": {
    "name": "ipython",
    "version": 3
   },
   "file_extension": ".py",
   "mimetype": "text/x-python",
   "name": "python",
   "nbconvert_exporter": "python",
   "pygments_lexer": "ipython3",
   "version": "3.12.0"
  }
 },
 "nbformat": 4,
 "nbformat_minor": 2
}
