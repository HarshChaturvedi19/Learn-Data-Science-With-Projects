{
 "cells": [
  {
   "cell_type": "markdown",
   "metadata": {},
   "source": [
    "### Write OOP classes to handle the following scenarios:\n",
    "#### ->A user can create and view 2D coordinates\n",
    "#### ->A user can find out the distance between 2 coordinates\n",
    "#### ->A user can find find the distance of a coordinate from origin\n",
    "#### ->A user can check if a point lies on a given line\n",
    "#### ->A user can find the distance between a given 2D point and a given line"
   ]
  },
  {
   "cell_type": "code",
   "execution_count": 23,
   "metadata": {},
   "outputs": [],
   "source": [
    "class Point:\n",
    "\n",
    "    def __init__(self,x,y):\n",
    "        self.x_cod = x\n",
    "        self.y_cod = y\n",
    "\n",
    "## 1) PArt of QST\n",
    "    ## To see how our point obj will lokk -> use __str__()\n",
    "    def __str__(self):\n",
    "        return '{},{}'.format(self.x_cod,self.y_cod)\n",
    "    \n",
    "## 2) point -->> Euclidean_distance\n",
    "    def euclidean_dist(self,other):\n",
    "        return ((self.x_cod - other.y_cod)**2 + (self.y_cod - other.y_cod)**2)**0.5\n",
    "\n",
    "## 3) A user can find out the distance between 2 coordinates\n",
    "    def distance_from_origin(self):\n",
    "        return self.euclidean_dist(Point(0,0)) # distance between self and origin \n",
    "\n",
    "## 4) A user can check if a point lies on a given line ( line class -> Ax + By + c\n",
    "\n",
    "## First -> Line CLass Creation\n",
    "class Line:\n",
    "    def __init__(self,A,B,C):\n",
    "        self.A = A\n",
    "        self.B = B\n",
    "        self.C = C \n",
    "\n",
    "        # How Line Looks ->\n",
    "    def __str__(self):\n",
    "        return '{}x + {}y + {}'.format(self.A,self.B,self.C)\n",
    "\n",
    "    def point_on_line(line,point):\n",
    "\n",
    "        if line.A*point.x_cod + line.B*point.y_cod + line.C == 0:\n",
    "            return \"Lies on the line\"\n",
    "        else:\n",
    "            return \"Does not lies on the line \"\n",
    "        \n",
    "\n",
    "# 5) -> A user can find the distance between a given 2D point and a given line\n",
    "\n",
    "    def shortest_distance(line,point):\n",
    "\n",
    "        return abs(line.A*point.x_cod + line.B*point.y_cod + line.C)/(line.A**2 + line.B**2)**0.5  ## Formula \n",
    "\n",
    "\n",
    "\n",
    "        \n",
    "\n",
    "\n",
    "\n",
    "\n",
    "\n",
    "        "
   ]
  },
  {
   "cell_type": "code",
   "execution_count": 26,
   "metadata": {},
   "outputs": [
    {
     "name": "stdout",
     "output_type": "stream",
     "text": [
      "Point entered: 0.0,0.0\n",
      "Euclidean Distance between the points: 7.0710678118654755\n",
      "Distance from origin: 0.0\n",
      "Line equation: 6.0x + 4.0y + 1.0\n",
      "Does not lies on the line \n",
      "Shortest distance from point to line: 0.1386750490563073\n"
     ]
    }
   ],
   "source": [
    "# Taking user input for a point\n",
    "x = float(input(\"Enter x-coordinate of the point: \"))\n",
    "y = float(input(\"Enter y-coordinate of the point: \"))\n",
    "point = Point(x, y)\n",
    "print(\"Point entered:\", point)\n",
    "\n",
    "# Taking user input for another point to find Euclidean distance\n",
    "x2 = float(input(\"Enter x-coordinate of another point: \"))\n",
    "y2 = float(input(\"Enter y-coordinate of another point: \"))\n",
    "other_point = Point(x2, y2)\n",
    "print(\"Euclidean Distance between the points:\", point.euclidean_dist(other_point))\n",
    "\n",
    "# Distance from origin\n",
    "print(\"Distance from origin:\", point.distance_from_origin())\n",
    "\n",
    "# Taking user input for a line\n",
    "A = float(input(\"Enter coefficient A of the line: \"))\n",
    "B = float(input(\"Enter coefficient B of the line: \"))\n",
    "C = float(input(\"Enter constant C of the line: \"))\n",
    "line = Line(A, B, C)\n",
    "print(\"Line equation:\", line)\n",
    "\n",
    "# Checking if the point lies on the line\n",
    "print(line.point_on_line(point))\n",
    "\n",
    "# Finding shortest distance from point to line\n",
    "print(\"Shortest distance from point to line:\", line.shortest_distance(point))"
   ]
  },
  {
   "cell_type": "markdown",
   "metadata": {},
   "source": [
    "### How Object access attributes"
   ]
  },
  {
   "cell_type": "code",
   "execution_count": 27,
   "metadata": {},
   "outputs": [],
   "source": [
    "class Person:\n",
    "    def __init__(self,name_input,country_input):\n",
    "        self.name = name_input\n",
    "        self.country = country_input\n",
    "\n",
    "    def greet(self):\n",
    "        if self.country == 'India':\n",
    "            print('Namaste',self.name)\n",
    "        else:\n",
    "            print('Hello',self.name)"
   ]
  },
  {
   "cell_type": "code",
   "execution_count": null,
   "metadata": {},
   "outputs": [
    {
     "name": "stdout",
     "output_type": "stream",
     "text": [
      "Namaste Harsh\n"
     ]
    }
   ],
   "source": [
    "x1 = (input(\"Enter your name : \"))\n",
    "y1 = (input(\"Enter country Name: \"))\n",
    "\n",
    "obj = Person(x1,y1)\n",
    "## Object accessing \n",
    "obj.country\n",
    "obj.greet()\n"
   ]
  },
  {
   "cell_type": "code",
   "execution_count": 31,
   "metadata": {},
   "outputs": [
    {
     "ename": "AttributeError",
     "evalue": "'Person' object has no attribute 'gender'",
     "output_type": "error",
     "traceback": [
      "\u001b[1;31m---------------------------------------------------------------------------\u001b[0m",
      "\u001b[1;31mAttributeError\u001b[0m                            Traceback (most recent call last)",
      "Cell \u001b[1;32mIn[31], line 2\u001b[0m\n\u001b[0;32m      1\u001b[0m \u001b[38;5;66;03m## If acceess attribute that did not acess , give error \u001b[39;00m\n\u001b[1;32m----> 2\u001b[0m \u001b[43mobj\u001b[49m\u001b[38;5;241;43m.\u001b[39;49m\u001b[43mgender\u001b[49m\n",
      "\u001b[1;31mAttributeError\u001b[0m: 'Person' object has no attribute 'gender'"
     ]
    }
   ],
   "source": [
    "## If acceess attribute that did not acess , give error \n",
    "obj.gender"
   ]
  },
  {
   "cell_type": "markdown",
   "metadata": {},
   "source": [
    "#### Attribute Creation From Outside of the CLass"
   ]
  },
  {
   "cell_type": "code",
   "execution_count": 32,
   "metadata": {},
   "outputs": [],
   "source": [
    "obj.gender = 'male'"
   ]
  },
  {
   "cell_type": "code",
   "execution_count": 33,
   "metadata": {},
   "outputs": [
    {
     "data": {
      "text/plain": [
       "'male'"
      ]
     },
     "execution_count": 33,
     "metadata": {},
     "output_type": "execute_result"
    }
   ],
   "source": [
    "obj.gender"
   ]
  },
  {
   "cell_type": "code",
   "execution_count": null,
   "metadata": {},
   "outputs": [],
   "source": []
  }
 ],
 "metadata": {
  "kernelspec": {
   "display_name": "Python 3",
   "language": "python",
   "name": "python3"
  },
  "language_info": {
   "codemirror_mode": {
    "name": "ipython",
    "version": 3
   },
   "file_extension": ".py",
   "mimetype": "text/x-python",
   "name": "python",
   "nbconvert_exporter": "python",
   "pygments_lexer": "ipython3",
   "version": "3.12.0"
  }
 },
 "nbformat": 4,
 "nbformat_minor": 2
}
