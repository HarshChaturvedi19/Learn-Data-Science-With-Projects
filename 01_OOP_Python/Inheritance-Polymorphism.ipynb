{
 "cells": [
  {
   "cell_type": "markdown",
   "metadata": {},
   "source": [
    "#### Class Relationships\n",
    "##### (.) -> Aggregation\n",
    "##### (.) -> Inheritance"
   ]
  },
  {
   "cell_type": "markdown",
   "metadata": {},
   "source": [
    "##### 1) Aggregation\n",
    "-> Has -A - Relationship"
   ]
  },
  {
   "cell_type": "code",
   "execution_count": null,
   "metadata": {},
   "outputs": [
    {
     "name": "stdout",
     "output_type": "stream",
     "text": [
      "Bhopal 29897 MP\n"
     ]
    }
   ],
   "source": [
    "class Customer:\n",
    "\n",
    "    def __init__(self,name,gender,address):\n",
    "        self.name = name\n",
    "        self.gender = gender\n",
    "        self.address = address\n",
    "\n",
    "\n",
    "    def print_address(self):\n",
    "        print(self.address.city,self.address.pin,self.address.state)\n",
    "\n",
    "    \n",
    "\n",
    "class Address:\n",
    "    def __init__(self,city,pin,state):\n",
    "\n",
    "        self.city = city\n",
    "        self.pin = pin \n",
    "        self.state = state \n",
    "\n",
    "\n",
    "add1 = Address('Bhopal',29897,'MP')\n",
    "cust = Customer('Harsh','male',add1)\n",
    "cust.print_address()"
   ]
  },
  {
   "cell_type": "markdown",
   "metadata": {},
   "source": [
    "### Inheritance\n",
    "#### . What is inheritance\n",
    "#### . Example\n"
   ]
  },
  {
   "cell_type": "code",
   "execution_count": 6,
   "metadata": {},
   "outputs": [],
   "source": [
    "## What is inheritance -> \n",
    "# -> It is a key concept in OOP , that allows a class(child) , to acquire the properties and beaviour of an existing class (parent)"
   ]
  },
  {
   "cell_type": "code",
   "execution_count": null,
   "metadata": {},
   "outputs": [
    {
     "name": "stdout",
     "output_type": "stream",
     "text": [
      "Harsh\n",
      "Login\n"
     ]
    }
   ],
   "source": [
    "# parent class\n",
    "class User:\n",
    "\n",
    "    def __init__(self):\n",
    "        self.name = 'Harsh'\n",
    "\n",
    "    def login(self):\n",
    "        print('Login')\n",
    "\n",
    "# child class\n",
    "class Student(User):\n",
    "\n",
    "    def __init__(self):\n",
    "        super().__init__()  # Call the parent constructor /  or remove __init__ from the child , to access the paren tclass  ( if not use super() -> it cause method overriding )\n",
    "        self.rollno = 61\n",
    "\n",
    "    def eroll(self):\n",
    "        print('Enroll into the course')\n",
    "\n",
    "# when create a obj of child class, it can access both class, like it's own and parent\n",
    "\n",
    "u = User()\n",
    "s = Student()\n",
    "\n",
    "\n",
    "print(s.name)\n",
    "s.login()\n",
    "\n",
    "\n",
    "    "
   ]
  },
  {
   "cell_type": "code",
   "execution_count": 16,
   "metadata": {},
   "outputs": [
    {
     "name": "stdout",
     "output_type": "stream",
     "text": [
      "Inside Phoneconstructor\n",
      "Buying a Phone\n"
     ]
    }
   ],
   "source": [
    "  ## Constructor Example\n",
    "\n",
    "class Phone:\n",
    "\n",
    "    def __init__(self,price,brand,camera):\n",
    "        print(\"Inside Phoneconstructor\")\n",
    "\n",
    "        self.price = price \n",
    "        self.brand = brand\n",
    "        self.camera = camera \n",
    "\n",
    "    def buy(self):\n",
    "        print(\"Buying a Phone\")\n",
    "\n",
    "## Child class \n",
    "class SmartPhone(Phone):\n",
    "\n",
    "    pass\n",
    "\n",
    "\n",
    "#3 obj of child class can access attribute of parent class\n",
    "s = SmartPhone(2000,'Apple',20)\n",
    "s.buy()"
   ]
  },
  {
   "cell_type": "code",
   "execution_count": null,
   "metadata": {},
   "outputs": [],
   "source": []
  }
 ],
 "metadata": {
  "kernelspec": {
   "display_name": "Python 3",
   "language": "python",
   "name": "python3"
  },
  "language_info": {
   "codemirror_mode": {
    "name": "ipython",
    "version": 3
   },
   "file_extension": ".py",
   "mimetype": "text/x-python",
   "name": "python",
   "nbconvert_exporter": "python",
   "pygments_lexer": "ipython3",
   "version": "3.12.0"
  }
 },
 "nbformat": 4,
 "nbformat_minor": 2
}
