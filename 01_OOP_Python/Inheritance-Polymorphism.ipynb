{
 "cells": [
  {
   "cell_type": "markdown",
   "metadata": {},
   "source": [
    "#### Class Relationships\n",
    "##### (.) -> Aggregation\n",
    "##### (.) -> Inheritance"
   ]
  },
  {
   "cell_type": "markdown",
   "metadata": {},
   "source": [
    "##### 1) Aggregation\n",
    "-> Has -A - Relationship"
   ]
  },
  {
   "cell_type": "code",
   "execution_count": null,
   "metadata": {},
   "outputs": [
    {
     "name": "stdout",
     "output_type": "stream",
     "text": [
      "Bhopal 29897 MP\n"
     ]
    }
   ],
   "source": [
    "class Customer:\n",
    "\n",
    "    def __init__(self,name,gender,address):\n",
    "        self.name = name\n",
    "        self.gender = gender\n",
    "        self.address = address\n",
    "\n",
    "\n",
    "    def print_address(self):\n",
    "        print(self.address.city,self.address.pin,self.address.state)\n",
    "\n",
    "    \n",
    "\n",
    "class Address:\n",
    "    def __init__(self,city,pin,state):\n",
    "\n",
    "        self.city = city\n",
    "        self.pin = pin \n",
    "        self.state = state \n",
    "\n",
    "\n",
    "add1 = Address('Bhopal',29897,'MP')\n",
    "cust = Customer('Harsh','male',add1)\n",
    "cust.print_address()"
   ]
  },
  {
   "cell_type": "markdown",
   "metadata": {},
   "source": [
    "### Inheritance\n",
    "#### . What is inheritance\n",
    "#### . Example\n"
   ]
  },
  {
   "cell_type": "code",
   "execution_count": 6,
   "metadata": {},
   "outputs": [],
   "source": [
    "## What is inheritance -> \n",
    "# -> It is a key concept in OOP , that allows a class(child) , to acquire the properties and beaviour of an existing class (parent)"
   ]
  },
  {
   "cell_type": "code",
   "execution_count": null,
   "metadata": {},
   "outputs": [
    {
     "name": "stdout",
     "output_type": "stream",
     "text": [
      "Harsh\n",
      "Login\n"
     ]
    }
   ],
   "source": [
    "# parent class\n",
    "class User:\n",
    "\n",
    "    def __init__(self):\n",
    "        self.name = 'Harsh'\n",
    "\n",
    "    def login(self):\n",
    "        print('Login')\n",
    "\n",
    "# child class\n",
    "class Student(User):\n",
    "\n",
    "    def __init__(self):\n",
    "        super().__init__()  # Call the parent constructor /  or remove __init__ from the child , to access the paren tclass  ( if not use super() -> it cause method overriding )\n",
    "        self.rollno = 61\n",
    "\n",
    "    def eroll(self):\n",
    "        print('Enroll into the course')\n",
    "\n",
    "# when create a obj of child class, it can access both class, like it's own and parent\n",
    "\n",
    "u = User()\n",
    "s = Student()\n",
    "\n",
    "\n",
    "print(s.name)\n",
    "s.login()\n",
    "\n",
    "\n",
    "    "
   ]
  },
  {
   "cell_type": "code",
   "execution_count": 16,
   "metadata": {},
   "outputs": [
    {
     "name": "stdout",
     "output_type": "stream",
     "text": [
      "Inside Phoneconstructor\n",
      "Buying a Phone\n"
     ]
    }
   ],
   "source": [
    "  ## Constructor Example\n",
    "\n",
    "class Phone:\n",
    "\n",
    "    def __init__(self,price,brand,camera):\n",
    "        print(\"Inside Phoneconstructor\")\n",
    "\n",
    "        self.price = price \n",
    "        self.brand = brand\n",
    "        self.camera = camera \n",
    "\n",
    "    def buy(self):\n",
    "        print(\"Buying a Phone\")\n",
    "\n",
    "## Child class \n",
    "class SmartPhone(Phone):\n",
    "\n",
    "    pass\n",
    "\n",
    "\n",
    "#3 obj of child class can access attribute of parent class\n",
    "s = SmartPhone(2000,'Apple',20)\n",
    "s.buy()"
   ]
  },
  {
   "cell_type": "code",
   "execution_count": 17,
   "metadata": {},
   "outputs": [
    {
     "name": "stdout",
     "output_type": "stream",
     "text": [
      "Inside Phoneconstructor\n"
     ]
    },
    {
     "ename": "AttributeError",
     "evalue": "'SmartPhone' object has no attribute '_SmartPhone__price'",
     "output_type": "error",
     "traceback": [
      "\u001b[1;31m---------------------------------------------------------------------------\u001b[0m",
      "\u001b[1;31mAttributeError\u001b[0m                            Traceback (most recent call last)",
      "Cell \u001b[1;32mIn[17], line 23\u001b[0m\n\u001b[0;32m     19\u001b[0m         \u001b[38;5;28mprint\u001b[39m(\u001b[38;5;28mself\u001b[39m\u001b[38;5;241m.\u001b[39m__price)\n\u001b[0;32m     22\u001b[0m s \u001b[38;5;241m=\u001b[39m SmartPhone(\u001b[38;5;241m2000\u001b[39m,\u001b[38;5;124m'\u001b[39m\u001b[38;5;124mApple\u001b[39m\u001b[38;5;124m'\u001b[39m,\u001b[38;5;241m40\u001b[39m)\n\u001b[1;32m---> 23\u001b[0m \u001b[43ms\u001b[49m\u001b[38;5;241;43m.\u001b[39;49m\u001b[43mcheck\u001b[49m\u001b[43m(\u001b[49m\u001b[43m)\u001b[49m\n",
      "Cell \u001b[1;32mIn[17], line 19\u001b[0m, in \u001b[0;36mSmartPhone.check\u001b[1;34m(self)\u001b[0m\n\u001b[0;32m     18\u001b[0m \u001b[38;5;28;01mdef\u001b[39;00m \u001b[38;5;21mcheck\u001b[39m(\u001b[38;5;28mself\u001b[39m):\n\u001b[1;32m---> 19\u001b[0m     \u001b[38;5;28mprint\u001b[39m(\u001b[38;5;28;43mself\u001b[39;49m\u001b[38;5;241;43m.\u001b[39;49m\u001b[43m__price\u001b[49m)\n",
      "\u001b[1;31mAttributeError\u001b[0m: 'SmartPhone' object has no attribute '_SmartPhone__price'"
     ]
    }
   ],
   "source": [
    "## Child class can't access private members of the class\n",
    "\n",
    "class Phone:\n",
    "\n",
    "    def __init__(self,price,brand,camera):\n",
    "        print(\"Inside Phoneconstructor\")\n",
    "\n",
    "        self.__price = price \n",
    "        self.brand = brand\n",
    "        self.camera = camera \n",
    "\n",
    "    def show(self):\n",
    "        print(self.__price)\n",
    "\n",
    "\n",
    "\n",
    "class SmartPhone(Phone):\n",
    "    def check(self):\n",
    "        print(self.__price)\n",
    "\n",
    "\n",
    "s = SmartPhone(2000,'Apple',40)\n",
    "s.check()\n",
    "\n",
    "    "
   ]
  },
  {
   "cell_type": "code",
   "execution_count": null,
   "metadata": {},
   "outputs": [
    {
     "name": "stdout",
     "output_type": "stream",
     "text": [
      "Inside phne COnstructor\n",
      "Buying a smartphone\n"
     ]
    }
   ],
   "source": [
    "# method Overriding .\n",
    "\n",
    "class Phone:\n",
    "\n",
    "    def __init__(self,price,brand,camera):\n",
    "        print('Inside phne COnstructor')\n",
    "        self.__price = price \n",
    "        self.brand = brand\n",
    "        self.camera = camera \n",
    "\n",
    "\n",
    "\n",
    "    def buy(self):\n",
    "        print('Buying a Phone')\n",
    "\n",
    "\n",
    "class SmartPhone(Phone):\n",
    "\n",
    "    def buy(self):\n",
    "        print('Buying a smartphone')\n",
    "\n",
    "\n",
    "s = SmartPhone(20000,'Apple',20)\n",
    "s.buy() # child class method will executed \n",
    " \n"
   ]
  },
  {
   "cell_type": "code",
   "execution_count": 10,
   "metadata": {},
   "outputs": [
    {
     "name": "stdout",
     "output_type": "stream",
     "text": [
      "Inside phne COnstructor\n",
      "Buying a smartphone\n",
      "Buying a Phone\n"
     ]
    }
   ],
   "source": [
    "## Super Keyword\n",
    " #-> by using super() keyword , we can call the parent class  methods\n",
    "\n",
    "class Phone:\n",
    "\n",
    "    def __init__(self,price,brand,camera):\n",
    "        print('Inside phne COnstructor')\n",
    "        self.__price = price \n",
    "        self.brand = brand\n",
    "        self.camera = camera \n",
    "\n",
    "\n",
    "\n",
    "    def buy(self):\n",
    "        print('Buying a Phone')\n",
    "\n",
    "\n",
    "class SmartPhone(Phone):\n",
    "\n",
    "    def buy(self):\n",
    "        print('Buying a smartphone')\n",
    "        super().buy() # syntax to call parents's buy method.\n",
    "\n",
    "\n",
    "s = SmartPhone(20000,'Apple',20)\n",
    "s.buy() \n",
    " \n"
   ]
  },
  {
   "cell_type": "code",
   "execution_count": 9,
   "metadata": {},
   "outputs": [
    {
     "name": "stdout",
     "output_type": "stream",
     "text": [
      " 1 ) .Inside Smartphone constructor\n",
      " 2) .Inside phne COnstructor\n",
      " 3). Inside smartphone Constructor\n",
      "Android\n",
      "Apple\n"
     ]
    }
   ],
   "source": [
    "## Using super() , outside the class\n",
    "## super --> Constructor\n",
    "\n",
    "class Phone:\n",
    "\n",
    "    def __init__(self,price,brand,camera):\n",
    "        print(' 2) .Inside phne COnstructor')\n",
    "        self.__price = price \n",
    "        self.brand = brand\n",
    "        self.camera = camera \n",
    "\n",
    "class SmartPhone(Phone):\n",
    "\n",
    "    def __init__(self,price,brand,camera,os,ram):\n",
    "        print(' 1 ) .Inside Smartphone constructor')\n",
    "        super().__init__(price,brand,camera)\n",
    "        self.os = os \n",
    "        self.ram = ram\n",
    "        print(' 3). Inside smartphone Constructor')\n",
    "\n",
    "\n",
    "    def buy(self):\n",
    "        print('Buying a smartphone')\n",
    "\n",
    "\n",
    "s = SmartPhone(20000,'Apple',20,'Android',8)\n",
    "print(s.os)\n",
    "print(s.brand)\n",
    " \n",
    "\n",
    "\n"
   ]
  },
  {
   "cell_type": "code",
   "execution_count": 13,
   "metadata": {},
   "outputs": [],
   "source": [
    "## Super() keyword is only used in child class.\n",
    "\n",
    "\n"
   ]
  },
  {
   "cell_type": "markdown",
   "metadata": {},
   "source": [
    "### Types of Inheritance\n",
    "#### > Single Inheritance\n",
    "#### > Multilevel Inheritance\n",
    "#### > Hierarchical Inheritance\n",
    "#### > Multiple Inheritance (Diamond Problem)\n",
    "#### > Hybrid Inheritance"
   ]
  },
  {
   "cell_type": "code",
   "execution_count": 12,
   "metadata": {},
   "outputs": [
    {
     "name": "stdout",
     "output_type": "stream",
     "text": [
      "Inside Parent Class -> Single Inheritance\n",
      "Buying a Phone\n"
     ]
    }
   ],
   "source": [
    "## Single inheritance\n",
    "\n",
    "class Phone:\n",
    "\n",
    "    def __init__(self,price,brand,camera):\n",
    "        print(\"Inside Parent Class -> Single Inheritance\")\n",
    "\n",
    "        self.price = price \n",
    "        self.brand = brand\n",
    "        self.camera = camera \n",
    "\n",
    "    def buy(self):\n",
    "        print(\"Buying a Phone\")\n",
    "        \n",
    "        ## Child class \n",
    "class SmartPhone(Phone):\n",
    "\n",
    "    pass\n",
    "\n",
    "\n",
    "s = SmartPhone(2000,'Apple',20)\n",
    "s.buy()\n",
    "\n",
    "\n",
    " "
   ]
  },
  {
   "cell_type": "code",
   "execution_count": 16,
   "metadata": {},
   "outputs": [
    {
     "name": "stdout",
     "output_type": "stream",
     "text": [
      "Inside Phone Constructor\n",
      "Buying a Phone\n",
      "Product Customer Review\n"
     ]
    }
   ],
   "source": [
    "## Multilevel Inheritance\n",
    "\n",
    "class Product:\n",
    "    def review(self):\n",
    "        print('Product Customer Review')\n",
    "\n",
    "\n",
    "\n",
    "class Phone(Product):\n",
    "    def __init__(self,price,brand,camera):\n",
    "        print('Inside Phone Constructor')\n",
    "        self.__price = price\n",
    "        self.brand = brand \n",
    "        self.camera = camera \n",
    "\n",
    "\n",
    "    def buy(self):\n",
    "            print('Buying a Phone')\n",
    "\n",
    "\n",
    "class SmartPhone(Phone):\n",
    "\n",
    "    pass\n",
    "\n",
    "\n",
    "s = SmartPhone(2000,'Apple',300)\n",
    "s.buy()\n",
    "s.review()"
   ]
  },
  {
   "cell_type": "code",
   "execution_count": 18,
   "metadata": {},
   "outputs": [
    {
     "name": "stdout",
     "output_type": "stream",
     "text": [
      "Inside Phone Constructor\n",
      "Buying a phone\n",
      "Inside Phone Constructor\n",
      "Buying a phone\n"
     ]
    }
   ],
   "source": [
    " ## Hierarchial \n",
    "\n",
    "class Phone:\n",
    "    def __init__(self,price,brand,camera):\n",
    "        print('Inside Phone Constructor')\n",
    "        self.__price = price \n",
    "        self.brand = brand \n",
    "        self.camera = camera \n",
    "\n",
    "\n",
    "    def buy(self):\n",
    "        print('Buying a phone')\n",
    "\n",
    "\n",
    "class SmartPhone(Phone):\n",
    "    pass\n",
    "\n",
    "class FeaturePhone(Phone):\n",
    "    pass\n",
    "\n",
    "SmartPhone(1000,'Nokia',40).buy()\n",
    "FeaturePhone(20000,'Lava',200).buy()\n"
   ]
  },
  {
   "cell_type": "code",
   "execution_count": null,
   "metadata": {},
   "outputs": [
    {
     "name": "stdout",
     "output_type": "stream",
     "text": [
      "Inside Phone Constructor\n",
      "Buying a phone\n",
      "Customer Review\n"
     ]
    }
   ],
   "source": [
    "## Multiple Inheritance\n",
    "\n",
    "class Phone:\n",
    "    def __init__(self,price,brand,camera):\n",
    "        print('Inside Phone Constructor')\n",
    "        self.__price = price \n",
    "        self.brand = brand \n",
    "        self.camera = camera \n",
    "\n",
    "\n",
    "    def buy(self):\n",
    "        print('Buying a phone')\n",
    "\n",
    "\n",
    "class Product:\n",
    "    def review(self):\n",
    "        print('Customer Review')\n",
    "\n",
    "\n",
    "\n",
    "class SmartPhone(Phone,Product):\n",
    "    pass\n",
    "\n",
    "\n",
    "s = SmartPhone(2000,'Lava',30) ## can access both parent class\n",
    "s.buy()\n",
    "s.review()"
   ]
  },
  {
   "cell_type": "markdown",
   "metadata": {},
   "source": [
    "#### Polymorphism\n",
    "##### -> Method Overriding\n",
    "##### -> Method overloading\n",
    "##### -> Method Overloading"
   ]
  },
  {
   "cell_type": "code",
   "execution_count": null,
   "metadata": {},
   "outputs": [
    {
     "ename": "AttributeError",
     "evalue": "'SmartPhone' object has no attribute 'area'",
     "output_type": "error",
     "traceback": [
      "\u001b[1;31m---------------------------------------------------------------------------\u001b[0m",
      "\u001b[1;31mAttributeError\u001b[0m                            Traceback (most recent call last)",
      "Cell \u001b[1;32mIn[21], line 12\u001b[0m\n\u001b[0;32m      9\u001b[0m     \u001b[38;5;28;01mdef\u001b[39;00m \u001b[38;5;21marea\u001b[39m(\u001b[38;5;28mself\u001b[39m,l,b):\n\u001b[0;32m     10\u001b[0m         \u001b[38;5;28;01mreturn\u001b[39;00m l\u001b[38;5;241m*\u001b[39mb\n\u001b[1;32m---> 12\u001b[0m \u001b[43ms\u001b[49m\u001b[38;5;241;43m.\u001b[39;49m\u001b[43marea\u001b[49m(\u001b[38;5;241m2\u001b[39m)\n\u001b[0;32m     13\u001b[0m s\u001b[38;5;241m.\u001b[39marea(\u001b[38;5;241m3\u001b[39m,\u001b[38;5;241m4\u001b[39m)\n",
      "\u001b[1;31mAttributeError\u001b[0m: 'SmartPhone' object has no attribute 'area'"
     ]
    }
   ],
   "source": [
    "## Method Overloading -->> Same method but different Behaviour on the basic of different ascept like input \n",
    " ## ** But Python does not support Method OverLoading\n",
    "\n",
    "\n",
    "class Shape:\n",
    "    def area(self,radius):\n",
    "        return 3.14*radius*radius\n",
    "    \n",
    "\n",
    "    def area(self,l,b):\n",
    "        return l*b\n",
    "    \n",
    "s.area(2)\n",
    "s.area(3,4)"
   ]
  },
  {
   "cell_type": "code",
   "execution_count": 26,
   "metadata": {},
   "outputs": [
    {
     "name": "stdout",
     "output_type": "stream",
     "text": [
      "12.56\n",
      "12\n"
     ]
    }
   ],
   "source": [
    "# but we can do Method OverLoading using \n",
    "class Shape:\n",
    "\n",
    "    def area(self,a,b=0):\n",
    "        if b ==0:\n",
    "            return  3.14*a*a\n",
    "        \n",
    "        else:\n",
    "              return a *b\n",
    "    \n",
    "\n",
    "s = Shape()\n",
    "print(s.area(2)) # area of circle\n",
    "print(s.area(3,4)) # area of rectabgle"
   ]
  },
  {
   "cell_type": "code",
   "execution_count": 28,
   "metadata": {},
   "outputs": [
    {
     "data": {
      "text/plain": [
       "'helloworld'"
      ]
     },
     "execution_count": 28,
     "metadata": {},
     "output_type": "execute_result"
    }
   ],
   "source": [
    "## Operator Loading \n",
    "## Same operator behave different on different input\n",
    "\n",
    "\n",
    "'hello'+'world'\n",
    "\n"
   ]
  },
  {
   "cell_type": "code",
   "execution_count": 29,
   "metadata": {},
   "outputs": [
    {
     "data": {
      "text/plain": [
       "3"
      ]
     },
     "execution_count": 29,
     "metadata": {},
     "output_type": "execute_result"
    }
   ],
   "source": [
    "1+2"
   ]
  },
  {
   "cell_type": "code",
   "execution_count": 31,
   "metadata": {},
   "outputs": [
    {
     "data": {
      "text/plain": [
       "[1, 2, 3, 4, 5]"
      ]
     },
     "execution_count": 31,
     "metadata": {},
     "output_type": "execute_result"
    }
   ],
   "source": [
    "[1,2,3] +[4,5]"
   ]
  },
  {
   "cell_type": "markdown",
   "metadata": {},
   "source": [
    "### Abstraction "
   ]
  },
  {
   "cell_type": "code",
   "execution_count": 3,
   "metadata": {},
   "outputs": [],
   "source": [
    "## abstraction means Hidden -->> Hide implementation details , show only important details \n",
    "# abstract method -> no code\n",
    "\n",
    "from abc import ABC, abstractmethod\n",
    "class BankApp(ABC):\n",
    "\n",
    "    def database(self):\n",
    "        print('Connected to data base')\n",
    "\n",
    "    @abstractmethod\n",
    "    def security(self):\n",
    "        pass\n"
   ]
  },
  {
   "cell_type": "code",
   "execution_count": 7,
   "metadata": {},
   "outputs": [
    {
     "name": "stdout",
     "output_type": "stream",
     "text": [
      "Login into mobile\n"
     ]
    }
   ],
   "source": [
    "class MobileApp(BankApp):\n",
    "    def mobile_login(self):\n",
    "        print('Login into mobile')\n",
    "\n",
    "#mob = MobileApp()\n",
    "    ## we can not access the class unleass we make a method that i srequired for adbyraction.\n",
    "    # So we have to make a security method to make the object of this class \n",
    "\n",
    "    def security(self):\n",
    "        print('Mobile Security')\n",
    "\n",
    "\n",
    "mob = MobileApp()\n",
    "mob.mobile_login()\n"
   ]
  },
  {
   "cell_type": "code",
   "execution_count": null,
   "metadata": {},
   "outputs": [],
   "source": []
  }
 ],
 "metadata": {
  "kernelspec": {
   "display_name": "Python 3",
   "language": "python",
   "name": "python3"
  },
  "language_info": {
   "codemirror_mode": {
    "name": "ipython",
    "version": 3
   },
   "file_extension": ".py",
   "mimetype": "text/x-python",
   "name": "python",
   "nbconvert_exporter": "python",
   "pygments_lexer": "ipython3",
   "version": "3.12.0"
  }
 },
 "nbformat": 4,
 "nbformat_minor": 2
}
