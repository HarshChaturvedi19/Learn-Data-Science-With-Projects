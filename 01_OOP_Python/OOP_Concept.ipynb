{
 "cells": [
  {
   "cell_type": "markdown",
   "metadata": {},
   "source": [
    "### Class and Object \n",
    "#### -> Class : Class is a blueprint , or \"Set of Rules , that define how the object's behave of a class.\n",
    "#### -> Object : Object is an instance of class. "
   ]
  },
  {
   "cell_type": "code",
   "execution_count": null,
   "metadata": {},
   "outputs": [],
   "source": [
    "L = [1,2,3]\n",
    "print(type(L)) "
   ]
  },
  {
   "cell_type": "code",
   "execution_count": null,
   "metadata": {},
   "outputs": [],
   "source": [
    "L.upper() # AttributeError: 'list' object has no attribute 'upper'"
   ]
  },
  {
   "cell_type": "code",
   "execution_count": null,
   "metadata": {},
   "outputs": [],
   "source": [
    "## In this wemake a Variable of 'List' -> L , then the variable is called 'Object , and the 'List' is called 'Class'"
   ]
  },
  {
   "cell_type": "code",
   "execution_count": null,
   "metadata": {},
   "outputs": [],
   "source": [
    "## Object can have 'Attributes' and 'Methods' associated with it.\n",
    "## Creation of an Object\n",
    " ##Object_name = class_name() # This is the syntax to create an object of a class"
   ]
  },
  {
   "cell_type": "code",
   "execution_count": null,
   "metadata": {},
   "outputs": [],
   "source": [
    "## Simple Code For an AtM Machine\n",
    "\n",
    "# Rules for creating Classes\n",
    "# 1. Class names should start with a Capital letter\n",
    "# 2. __init__ is a special method in python classes, also called as constructor method\n",
    "\n",
    "class ATM:\n",
    "    #Constructor -> Function Inside a class\n",
    "    ## __init__ is a special method in python classes, also called as constructor method\n",
    "    \n",
    " \n",
    "\n",
    "    \n",
    "    def __init__(self): # self is a reference to the object\n",
    "        self.pin = ''\n",
    "        self.balance = 0\n",
    "        self.menu()\n",
    "    def menu(self):\n",
    "        user_input = input(\"\"\"\n",
    "        Hi, how can i help you?\n",
    "        1. Press 1 to create pin\n",
    "        2. Press 2 to change pin\n",
    "        3. Press 3 to check balance\n",
    "        4. Press 4 to Withdraw\n",
    "        5. Press anything else to exit         \n",
    "              \n",
    " \"\"\")\n",
    "        if user_input == '1':\n",
    "            # Create Pin\n",
    "            self.create_pin()\n",
    "        if user_input == '2':\n",
    "            # Change Pin\n",
    "            self.change_pin()\n",
    "            \n",
    "        if user_input == '3':\n",
    "            # Check Balance\n",
    "            self.check_balance()\n",
    "            \n",
    "        if user_input == '4':\n",
    "            # Withdraw\n",
    "            self.withdraw_balance()\n",
    "        else:\n",
    "            exit()\n",
    "\n",
    "    def create_pin(self):\n",
    "        user_pin= input(\"Enter a new Pin :-\")\n",
    "        self.pin = user_pin\n",
    "\n",
    "        user_balance = input(\"Enter Your Initial Balance :-\")\n",
    "        self.balance = user_balance\n",
    "\n",
    "        print(\"Your Pin is created successfully\")\n",
    "        self.menu()\n",
    "\n",
    "    ## Change_pin()\n",
    "    def change_pin(self):\n",
    "        old_pin = input('Enter Old Pin:-')\n",
    "\n",
    "        if old_pin == self.pin:\n",
    "            new_pin = input(\"Enter New Pin:-\")\n",
    "            self.pin = new_pin\n",
    "            print(\"Pin Changed Successfully\")\n",
    "        else:\n",
    "            print(\"Invalid Pin\")\n",
    "            self.menu()\n",
    "\n",
    "    ## Check_balance()\n",
    "    def check_balance(self):\n",
    "        user_pin = input(\"Enter Your Pin:-\")\n",
    "        if user_pin == self.pin:\n",
    "            print(f\"Your Balance is {self.balance}\")\n",
    "        else:\n",
    "            print(\"Invalid Pin\")\n",
    "            self.menu()\n",
    "      \n",
    "    def withdraw_balance(self):\n",
    "         user_pin = input(\"Enter Your Pin:-\")\n",
    "         if user_pin == self.pin:\n",
    "            amount=int(input(\"Enter the amount\"))\n",
    "\n",
    "            if amount<=self.balance:\n",
    "              self.balance = self.balance - amount\n",
    "              print(\"Withdrawl Successful. Balance is:-\",self.balance)\n",
    "              self.menu()\n",
    "\n",
    "            else:\n",
    "              print(\"Not SUfficient Balance\")\n",
    "              self.menu()\n",
    "\n",
    "         else:\n",
    "              print(\"Invalid Pin\")\n",
    "              self.menu()\n",
    "\n",
    "\n",
    "\n",
    "        \n",
    "        "
   ]
  },
  {
   "cell_type": "code",
   "execution_count": 1,
   "metadata": {},
   "outputs": [],
   "source": [
    "## Make Own Data Type\n",
    "\n",
    "class Fraction():\n",
    "# Parameterized Constructor -> That take input \n",
    "  def __init__(self,x,y):\n",
    "    self.num = x\n",
    "    self.den = y\n",
    "\n",
    "    ## __str__ => When we have to print the 'obj', the it will call first __str__ Function \n",
    "  def __str__(self):\n",
    "    return '{}/{}'.format(self.num,self.den)\n",
    "    ## we can see how obj is given ( in what Format)\n",
    "\n",
    "\n",
    "    # __add__(self,other)\n",
    "## To add two objects\n",
    "\n",
    "  def __add__(self,other):\n",
    "        new_num = self.num*other.den + other.num*self.den\n",
    "        new_den = self.den*other.den\n",
    "\n",
    "        return '{}/{}'.format(new_num,new_den)\n",
    "\n",
    "  \n",
    "  def __sub__(self,other):\n",
    "        new_num = self.num*other.den - other.num*self.den\n",
    "        new_den = self.den*other.den\n",
    "\n",
    "        return '{}/{}'.format(new_num,new_den)\n"
   ]
  },
  {
   "cell_type": "code",
   "execution_count": 2,
   "metadata": {},
   "outputs": [],
   "source": [
    "fr1 =Fraction(3,4)\n",
    "fr2 =Fraction(4,5)"
   ]
  },
  {
   "cell_type": "code",
   "execution_count": null,
   "metadata": {},
   "outputs": [],
   "source": [
    "print(fr1)\n",
    "print(fr2)"
   ]
  },
  {
   "cell_type": "code",
   "execution_count": 3,
   "metadata": {},
   "outputs": [
    {
     "name": "stdout",
     "output_type": "stream",
     "text": [
      "31/20\n",
      "-1/20\n"
     ]
    }
   ],
   "source": [
    "print(fr1 + fr2)\n",
    "print(fr1 - fr2)"
   ]
  },
  {
   "cell_type": "code",
   "execution_count": null,
   "metadata": {},
   "outputs": [],
   "source": []
  }
 ],
 "metadata": {
  "kernelspec": {
   "display_name": "Python 3",
   "language": "python",
   "name": "python3"
  },
  "language_info": {
   "codemirror_mode": {
    "name": "ipython",
    "version": 3
   },
   "file_extension": ".py",
   "mimetype": "text/x-python",
   "name": "python",
   "nbconvert_exporter": "python",
   "pygments_lexer": "ipython3",
   "version": "3.12.0"
  }
 },
 "nbformat": 4,
 "nbformat_minor": 2
}
