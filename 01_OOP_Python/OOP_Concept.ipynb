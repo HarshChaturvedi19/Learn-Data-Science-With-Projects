{
 "cells": [
  {
   "cell_type": "markdown",
   "metadata": {},
   "source": [
    "### Class and Object \n",
    "#### -> Class : Class is a blueprint , or \"Set of Rules , that define how the object's behave of a class.\n",
    "#### -> Object : Object is an instance of class. "
   ]
  },
  {
   "cell_type": "code",
   "execution_count": null,
   "metadata": {},
   "outputs": [
    {
     "name": "stdout",
     "output_type": "stream",
     "text": [
      "<class 'list'>\n"
     ]
    }
   ],
   "source": [
    "L = [1,2,3]\n",
    "print(type(L)) "
   ]
  },
  {
   "cell_type": "code",
   "execution_count": 2,
   "metadata": {},
   "outputs": [
    {
     "ename": "AttributeError",
     "evalue": "'list' object has no attribute 'upper'",
     "output_type": "error",
     "traceback": [
      "\u001b[1;31m---------------------------------------------------------------------------\u001b[0m",
      "\u001b[1;31mAttributeError\u001b[0m                            Traceback (most recent call last)",
      "Cell \u001b[1;32mIn[2], line 1\u001b[0m\n\u001b[1;32m----> 1\u001b[0m \u001b[43mL\u001b[49m\u001b[38;5;241;43m.\u001b[39;49m\u001b[43mupper\u001b[49m() \u001b[38;5;66;03m# AttributeError: 'list' object has no attribute 'upper'\u001b[39;00m\n",
      "\u001b[1;31mAttributeError\u001b[0m: 'list' object has no attribute 'upper'"
     ]
    }
   ],
   "source": [
    "L.upper() # AttributeError: 'list' object has no attribute 'upper'"
   ]
  },
  {
   "cell_type": "code",
   "execution_count": 3,
   "metadata": {},
   "outputs": [],
   "source": [
    "## In this wemake a Variable of 'List' -> L , then the variable is called 'Object , and the 'List' is called 'Class'"
   ]
  },
  {
   "cell_type": "code",
   "execution_count": 5,
   "metadata": {},
   "outputs": [],
   "source": [
    "## Object can have 'Attributes' and 'Methods' associated with it.\n",
    "## Creation of an Object\n",
    " ##Object_name = class_name() # This is the syntax to create an object of a class"
   ]
  },
  {
   "cell_type": "code",
   "execution_count": 7,
   "metadata": {},
   "outputs": [],
   "source": [
    "## Simple Code For an AtM Machine\n",
    "\n",
    "# Rules for creating Classes\n",
    "# 1. Class names should start with a Capital letter\n",
    "# 2. __init__ is a special method in python classes, also called as constructor method\n",
    "\n",
    "class ATM:\n",
    "    #Constructor -> Function Inside a class\n",
    "    ## __init__ is a special method in python classes, also called as constructor method\n",
    "    \n",
    " \n",
    "\n",
    "    \n",
    "    def __init__(self): # self is a reference to the object\n",
    "        self.pin = ''\n",
    "        self.balance = 0\n",
    "        self.menu()\n",
    "    def menu(self):\n",
    "        user_input = input(\"\"\"\n",
    "        Hi, how can i help you?\n",
    "        1. Press 1 to create pin\n",
    "        2. Press 2 to change pin\n",
    "        3. Press 3 to check balance\n",
    "        4. Press 4 to Withdraw\n",
    "        5. Press anything else to exit         \n",
    "              \n",
    " \"\"\")\n",
    "        if user_input == '1':\n",
    "            # Create Pin\n",
    "            self.create_pin()\n",
    "        if user_input == '2':\n",
    "            # Change Pin\n",
    "            self.change_pin()\n",
    "            \n",
    "        if user_input == '3':\n",
    "            # Check Balance\n",
    "            self.check_balance()\n",
    "            \n",
    "        if user_input == '4':\n",
    "            # Withdraw\n",
    "            pass\n",
    "        else:\n",
    "            exit()\n",
    "\n",
    "    def create_pin(self):\n",
    "        user_pin= input(\"Enter a new Pin :-\")\n",
    "        self.pin = user_pin\n",
    "\n",
    "        user_balance = input(\"Enter Your Initial Balance :-\")\n",
    "        self.balance = user_balance\n",
    "\n",
    "        print(\"Your Pin is created successfully\")\n",
    "        self.menu()\n",
    "\n",
    "    ## Change_pin()\n",
    "    def change_pin(self):\n",
    "        old_pin = input('Enter Old Pin:-')\n",
    "\n",
    "        if old_pin == self.pin:\n",
    "            new_pin = input(\"Enter New Pin:-\")\n",
    "            self.pin = new_pin\n",
    "            print(\"Pin Changed Successfully\")\n",
    "        else:\n",
    "            print(\"Invalid Pin\")\n",
    "            self.menu()\n",
    "\n",
    "    ## Check_balance()\n",
    "    def check_balance(self):\n",
    "        user_pin = input(\"Enter Your Pin:-\")\n",
    "        if user_pin == self.pin:\n",
    "            print(f\"Your Balance is {self.balance}\")\n",
    "        else:\n",
    "            print(\"Invalid Pin\")\n",
    "            self.menu()\n",
    "      \n",
    "    def withdraw_balance(self):\n",
    "         user_pin = input(\"Enter Your Pin:-\")\n",
    "         if user_pin == self.pin:\n",
    "            amount=int(input(\"Enter the amount\"))\n",
    "\n",
    "            if amount<=self.balance:\n",
    "              self.balance = self.balance - amount\n",
    "              print(\"Withdrawl Successful. Balance is:-\",self.balance)\n",
    "              self.menu()\n",
    "\n",
    "            else:\n",
    "              print(\"Not SUfficient Balance\")\n",
    "              self.menu()\n",
    "\n",
    "         else:\n",
    "              print(\"Invalid Pin\")\n",
    "              self.menu()\n",
    "\n",
    "\n",
    "\n",
    "        \n",
    "        "
   ]
  },
  {
   "cell_type": "code",
   "execution_count": null,
   "metadata": {},
   "outputs": [
    {
     "name": "stdout",
     "output_type": "stream",
     "text": [
      "Your Pin is created successfully\n"
     ]
    },
    {
     "ename": "",
     "evalue": "",
     "output_type": "error",
     "traceback": [
      "\u001b[1;31mThe Kernel crashed while executing code in the current cell or a previous cell. \n",
      "\u001b[1;31mPlease review the code in the cell(s) to identify a possible cause of the failure. \n",
      "\u001b[1;31mClick <a href='https://aka.ms/vscodeJupyterKernelCrash'>here</a> for more info. \n",
      "\u001b[1;31mView Jupyter <a href='command:jupyter.viewOutput'>log</a> for further details."
     ]
    }
   ],
   "source": [
    "## Object creation for this class\n",
    "obj = ATM()"
   ]
  },
  {
   "cell_type": "code",
   "execution_count": null,
   "metadata": {},
   "outputs": [],
   "source": []
  }
 ],
 "metadata": {
  "kernelspec": {
   "display_name": "Python 3",
   "language": "python",
   "name": "python3"
  },
  "language_info": {
   "codemirror_mode": {
    "name": "ipython",
    "version": 3
   },
   "file_extension": ".py",
   "mimetype": "text/x-python",
   "name": "python",
   "nbconvert_exporter": "python",
   "pygments_lexer": "ipython3",
   "version": "3.12.0"
  }
 },
 "nbformat": 4,
 "nbformat_minor": 2
}
