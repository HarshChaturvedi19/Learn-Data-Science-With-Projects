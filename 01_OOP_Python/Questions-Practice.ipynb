{
 "cells": [
  {
   "cell_type": "markdown",
   "metadata": {},
   "source": [
    "# Problem-1: Class Inheritance\n",
    "\n",
    "Create a **Bus** child class that inherits from the **Vehicle** class. The default fare charge of any vehicle is `seating capacity * 100`. If the vehicle is a **Bus** instance, we need to add an extra **10%** on full fare as a maintenance charge. \n",
    "\n",
    "So, the total fare for a **Bus** instance will become:\n",
    "\n",
    "\n",
    "{final amount} = {total fare} + 10% { of the total fare}\n",
    "\n",
    "\n",
    "**Note:** The bus seating capacity is **50**, so the final fare amount should be **5500**. You need to override the `fare()` method of the **Vehicle** class in the **Bus** class.\n"
   ]
  },
  {
   "cell_type": "code",
   "execution_count": 2,
   "metadata": {},
   "outputs": [
    {
     "name": "stdout",
     "output_type": "stream",
     "text": [
      "5500.0\n"
     ]
    }
   ],
   "source": [
    "class Vehicle:\n",
    "    def __init__(self,type,capacity):\n",
    "        self.type = type \n",
    "        self.capacity = capacity \n",
    "\n",
    "    def fare(self):\n",
    "        return 100*self.capacity\n",
    "    \n",
    "\n",
    "class Bus(Vehicle):\n",
    "\n",
    "    def fare(self):\n",
    "        base_fare = super().fare()\n",
    "        bus_fare = base_fare + 0.1*base_fare\n",
    "        return bus_fare\n",
    "    \n",
    "\n",
    "bus = Bus('School BUs',50)\n",
    "print(bus.fare())\n",
    "\n",
    "    \n"
   ]
  },
  {
   "cell_type": "markdown",
   "metadata": {},
   "source": [
    "# Problem-2: \n",
    "\n",
    "Write a program that has a class **Point**. Define another class **Location** which has two objects (**Location** & **Destination**) of class **Point**. Also, define a function in **Location** that prints the reflection of **Destination** on the x-axis.\n"
   ]
  },
  {
   "cell_type": "code",
   "execution_count": 5,
   "metadata": {},
   "outputs": [
    {
     "name": "stdout",
     "output_type": "stream",
     "text": [
      "Source is:-> 0,0\n",
      "Destination  is:-> 1,1\n",
      "Reflection is :-> 1,-1\n"
     ]
    }
   ],
   "source": [
    "class Point:\n",
    "\n",
    "    def __init__(self,x,y):\n",
    "        self.x = x\n",
    "        self.y = y \n",
    "\n",
    "    def show_point(self):\n",
    "        return '{},{}'.format(self.x,self.y)\n",
    "\n",
    "class Location:\n",
    "\n",
    "    def __init__(self,x1,y1,x2,y2):\n",
    "\n",
    "        self.source = Point(x1,y1)\n",
    "        self.destination = Point(x2,y2)\n",
    "\n",
    "    def show(self):\n",
    "\n",
    "        print('Source is:->',self.source.show_point())\n",
    "        print('Destination  is:->',self.destination.show_point())\n",
    "\n",
    "\n",
    "    def reflection(self):\n",
    "        self.destination.y = -self.destination.y \n",
    "        print('Reflection is :->',self.destination.show_point())\n",
    "\n",
    "\n",
    "\n",
    "L = Location(0,0,1,1)\n",
    "L.show()\n",
    "L.reflection()"
   ]
  },
  {
   "cell_type": "markdown",
   "metadata": {},
   "source": [
    " # Problem-3: \n",
    "\n",
    "Write a program that has an **abstract class `Polygon`**.  \n",
    "Derive two classes **`Rectangle`** and **`Triangle`** from `Polygon`, and write methods to:  \n",
    "1. Get the details of their dimensions.  \n",
    "2. Calculate the **area** of each shape.\n"
   ]
  },
  {
   "cell_type": "code",
   "execution_count": 12,
   "metadata": {},
   "outputs": [
    {
     "name": "stdout",
     "output_type": "stream",
     "text": [
      "Area of Rectangle :-> 20\n",
      "Area of Triangle :-> 10.0\n"
     ]
    }
   ],
   "source": [
    "from abc import ABC,abstractmethod\n",
    "class Polygon(ABC):\n",
    "\n",
    "    @abstractmethod\n",
    "    def get_data():\n",
    "        pass\n",
    "\n",
    "    @abstractmethod\n",
    "    def area():\n",
    "\n",
    "        pass\n",
    "\n",
    "\n",
    "class Rectangel(Polygon):\n",
    "\n",
    "    def get_data(self,l,b):\n",
    "        self.l = l\n",
    "        self.b = b \n",
    "\n",
    "\n",
    "    def area(self):\n",
    "        return self.l*self.b\n",
    "\n",
    "\n",
    "\n",
    "class Triangle(Polygon):\n",
    "\n",
    "    def get_data(self,b,h):\n",
    "\n",
    "        self.b = b \n",
    "        self.h = h \n",
    "\n",
    "\n",
    "    def area(self):\n",
    "        return 0.5 * self.b * self.h\n",
    "\n",
    "\n",
    "\n",
    "rect  = Rectangel()\n",
    "rect.get_data(4,5)\n",
    "print('Area of Rectangle :->',rect.area())\n",
    "\n",
    "\n",
    "tri = Triangle()\n",
    "tri.get_data(4,5)\n",
    "print('Area of Triangle :->',tri.area())\n",
    "\n",
    "\n"
   ]
  },
  {
   "cell_type": "code",
   "execution_count": null,
   "metadata": {},
   "outputs": [],
   "source": []
  }
 ],
 "metadata": {
  "kernelspec": {
   "display_name": "Python 3",
   "language": "python",
   "name": "python3"
  },
  "language_info": {
   "codemirror_mode": {
    "name": "ipython",
    "version": 3
   },
   "file_extension": ".py",
   "mimetype": "text/x-python",
   "name": "python",
   "nbconvert_exporter": "python",
   "pygments_lexer": "ipython3",
   "version": "3.12.0"
  }
 },
 "nbformat": 4,
 "nbformat_minor": 2
}
